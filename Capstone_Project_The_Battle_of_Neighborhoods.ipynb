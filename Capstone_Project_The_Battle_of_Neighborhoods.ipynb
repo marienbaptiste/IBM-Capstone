{
  "nbformat": 4,
  "nbformat_minor": 0,
  "metadata": {
    "colab": {
      "name": "Capstone Project - The Battle of Neighborhoods.ipynb",
      "provenance": [],
      "collapsed_sections": [],
      "include_colab_link": true
    },
    "kernelspec": {
      "name": "python3",
      "display_name": "Python 3"
    },
    "accelerator": "GPU"
  },
  "cells": [
    {
      "cell_type": "markdown",
      "metadata": {
        "id": "view-in-github",
        "colab_type": "text"
      },
      "source": [
        "<a href=\"https://colab.research.google.com/github/marienbaptiste/IBM-Capstone/blob/master/Capstone_Project_The_Battle_of_Neighborhoods.ipynb\" target=\"_parent\"><img src=\"https://colab.research.google.com/assets/colab-badge.svg\" alt=\"Open In Colab\"/></a>"
      ]
    },
    {
      "cell_type": "markdown",
      "metadata": {
        "id": "UEqgOtxBlydt",
        "colab_type": "text"
      },
      "source": [
        "# Capstone Project - The Battle of the Neighborhoods (Week 2)\n",
        "### Applied Data Science Capstone by IBM/Coursera"
      ]
    },
    {
      "cell_type": "markdown",
      "metadata": {
        "id": "SUaJbVxIcJFI",
        "colab_type": "text"
      },
      "source": [
        "## Table of contents\n",
        "* [Introduction: Business Problem](#introduction)\n",
        "* [Data](#data)\n",
        "* [Methodology](#methodology)\n",
        "* [Analysis](#analysis)\n",
        "* [Results and Discussion](#results)\n",
        "* [Conclusion](#conclusion)"
      ]
    },
    {
      "cell_type": "markdown",
      "metadata": {
        "id": "CmK_jh6ZcUA3",
        "colab_type": "text"
      },
      "source": [
        "## Introduction: Business Problem <a name=\"introduction\"></a>"
      ]
    },
    {
      "cell_type": "markdown",
      "metadata": {
        "id": "FyT3Yn5vcgx9",
        "colab_type": "text"
      },
      "source": [
        "**Background** - As a product owner moving to San Francisco on early 2020, I have at heart to find a safe location for myself and my family.\n",
        "\n",
        "\n",
        "**Business Problem** - This led to a sort of cheek in tongue idea: how about finding the correlation between criminality and what we could get out of Foursquare, a service absolutely not designed to return geopolitical and societal insights. This would serve multiple purposes:\n",
        "\n",
        "\n",
        "*Primary*\n",
        "\n",
        "*   Getting to know the type of neighborhood with a glance at the venues in the streets.\n",
        "\n",
        "\n",
        "*Secondary*\n",
        "\n",
        "*   Shouldering the idea that information is not data but what we get out of it.\n",
        "\n",
        "*   The difference between correlation and causation in action.\n",
        "\n",
        "*   Working with nonoptimal/indirectly correlated data for a case, as most real-life projects.\n",
        "\n",
        "*   Showing the importance of ethics and a way fake news could be born.\n"
      ]
    },
    {
      "cell_type": "markdown",
      "metadata": {
        "id": "XMFL-bKed3FV",
        "colab_type": "text"
      },
      "source": [
        "## Data <a name=\"data\"></a>"
      ]
    },
    {
      "cell_type": "markdown",
      "metadata": {
        "id": "ffxB-ychTCbW",
        "colab_type": "text"
      },
      "source": [
        "**To complete this task and validate our assumptions, we will use:**\n",
        "\n",
        "\n",
        "\n",
        "*   The **venues database in Foursquare** (2019 data) [[Source](https://developer.foursquare.com/) | [Documentation](https://developer.foursquare.com/docs)]\n",
        "\n",
        "*   The **Census Tract boundaries** (2010 data) as one of our data, Average Income per Household is per census tract [[Source](https://www.census.gov/) | [File](https://github.com/marienbaptiste/IBM-Capstone/blob/master/RSX/2010_san_francisco_census_tracts.geojson)], this is a cleanup of what could be found on the geo.census.gov website\n",
        "\n",
        "*   The **Average Income per Household** (2013-2017) [[Source](https://datausa.io/profile/geo/san-francisco-ca) | [File](https://github.com/marienbaptiste/IBM-Capstone/blob/master/RSX/Income%20by%20Location.csv)]\n",
        "\n",
        "*   The **Crime report CSV file** (2016) provided by IDM\n",
        "[[File](https://cocl.us/sanfran_crime_dataset)]\n",
        "\n",
        "*   The **Geolocation tool** provided by the Census Bureau will come handy [[Tool](https://geocoding.geo.census.gov/geocoder) | [Documentation](https://geocoding.geo.census.gov/geocoder/Geocoding_Services_API.pdf)]\n",
        "\n",
        "\n",
        "All of this to correlate crimes with a type of venue and plot it all on the map.\n",
        "Then we might want to find an inverse correlation with another type of venue.\n",
        "Finally we will compare it to a first hand correlation with crimes, namely a poverty index (https://en.wikipedia.org/wiki/Statistical_correlations_of_criminal_behaviour) under the form of the Average Income per Household.\n"
      ]
    },
    {
      "cell_type": "markdown",
      "metadata": {
        "id": "2heqfFNpMQzH",
        "colab_type": "text"
      },
      "source": [
        "###Libraries\n"
      ]
    },
    {
      "cell_type": "code",
      "metadata": {
        "id": "U5_TH9vnnB-V",
        "colab_type": "code",
        "outputId": "90a98e6a-1edc-4b93-f65c-96a3ac48fa00",
        "colab": {
          "base_uri": "https://localhost:8080/",
          "height": 51
        }
      },
      "source": [
        "import numpy as np  # useful for many scientific computing in Python\n",
        "import pandas as pd # primary data structure library\n",
        "import folium \n",
        "from folium.plugins import MarkerCluster\n",
        "!pip install geopy\n",
        "from geopy.geocoders import Nominatim # convert an address into latitude and longitude values"
      ],
      "execution_count": 1,
      "outputs": [
        {
          "output_type": "stream",
          "text": [
            "Requirement already satisfied: geopy in /usr/local/lib/python3.6/dist-packages (1.17.0)\n",
            "Requirement already satisfied: geographiclib<2,>=1.49 in /usr/local/lib/python3.6/dist-packages (from geopy) (1.50)\n"
          ],
          "name": "stdout"
        }
      ]
    },
    {
      "cell_type": "markdown",
      "metadata": {
        "id": "PsOVricgMa5p",
        "colab_type": "text"
      },
      "source": [
        "###Finding the default location for San Francisco"
      ]
    },
    {
      "cell_type": "code",
      "metadata": {
        "id": "pEF2k8sDl6gG",
        "colab_type": "code",
        "outputId": "e38687ee-b149-4111-82b1-0c7822830073",
        "colab": {
          "base_uri": "https://localhost:8080/",
          "height": 34
        }
      },
      "source": [
        "# Let's get the geographical coordinates of San Francisco using Geopy\n",
        "address = 'San Francisco'\n",
        "\n",
        "geolocator = Nominatim(user_agent=\"ny_explorer\")\n",
        "location = geolocator.geocode(address)\n",
        "latitude = location.latitude\n",
        "longitude = location.longitude\n",
        "print('The geograpical coordinate of San Francisco are {}, {}.'.format(latitude, longitude))"
      ],
      "execution_count": 2,
      "outputs": [
        {
          "output_type": "stream",
          "text": [
            "The geograpical coordinate of San Francisco are 37.7792808, -122.4192363.\n"
          ],
          "name": "stdout"
        }
      ]
    },
    {
      "cell_type": "markdown",
      "metadata": {
        "id": "jNSRQ8vrNRAz",
        "colab_type": "text"
      },
      "source": [
        "###Importing the 2016 crimes report for San Francisco"
      ]
    },
    {
      "cell_type": "code",
      "metadata": {
        "id": "zBi-KuNam8sO",
        "colab_type": "code",
        "outputId": "d16b41ce-7df5-4651-a2ff-4719c8751843",
        "colab": {
          "base_uri": "https://localhost:8080/",
          "height": 34
        }
      },
      "source": [
        "# Simple csv to dataframe import\n",
        "df_incidents = pd.read_csv('https://s3-api.us-geo.objectstorage.softlayer.net/cf-courses-data/CognitiveClass/DV0101EN/labs/Data_Files/Police_Department_Incidents_-_Previous_Year__2016_.csv')\n",
        "\n",
        "print('Dataset downloaded and read into a pandas dataframe!')"
      ],
      "execution_count": 3,
      "outputs": [
        {
          "output_type": "stream",
          "text": [
            "Dataset downloaded and read into a pandas dataframe!\n"
          ],
          "name": "stdout"
        }
      ]
    },
    {
      "cell_type": "code",
      "metadata": {
        "id": "3jQtlqnxDvyS",
        "colab_type": "code",
        "outputId": "d05e359f-5221-4ce6-a93f-6145380582b0",
        "colab": {
          "base_uri": "https://localhost:8080/",
          "height": 34
        }
      },
      "source": [
        "df_incidents.shape # 150k incidents! That calls for some trimming and grouping"
      ],
      "execution_count": 4,
      "outputs": [
        {
          "output_type": "execute_result",
          "data": {
            "text/plain": [
              "(150500, 13)"
            ]
          },
          "metadata": {
            "tags": []
          },
          "execution_count": 4
        }
      ]
    },
    {
      "cell_type": "markdown",
      "metadata": {
        "id": "Ev4iO1qmNcc8",
        "colab_type": "text"
      },
      "source": [
        "###Finding all categories of crimes"
      ]
    },
    {
      "cell_type": "code",
      "metadata": {
        "id": "ShWyjEhjEO1r",
        "colab_type": "code",
        "outputId": "d6e9ba80-b20a-474f-f9b8-a0e4cf0e46f2",
        "colab": {
          "base_uri": "https://localhost:8080/",
          "height": 204
        }
      },
      "source": [
        "# Some of those don't fall into the definition of a directly dangerous neighbourhood\n",
        "type(df_incidents)\n",
        "df_ucats=df_incidents['Category'].unique()\n",
        "df_ucats"
      ],
      "execution_count": 5,
      "outputs": [
        {
          "output_type": "execute_result",
          "data": {
            "text/plain": [
              "array(['WEAPON LAWS', 'WARRANTS', 'NON-CRIMINAL', 'ASSAULT',\n",
              "       'OTHER OFFENSES', 'MISSING PERSON', 'LARCENY/THEFT', 'BURGLARY',\n",
              "       'STOLEN PROPERTY', 'ROBBERY', 'FRAUD', 'DRUG/NARCOTIC',\n",
              "       'VEHICLE THEFT', 'RECOVERED VEHICLE', 'VANDALISM', 'ARSON',\n",
              "       'PROSTITUTION', 'SECONDARY CODES', 'SUSPICIOUS OCC', 'DRUNKENNESS',\n",
              "       'TRESPASS', 'SEX OFFENSES, NON FORCIBLE', 'SEX OFFENSES, FORCIBLE',\n",
              "       'RUNAWAY', 'KIDNAPPING', 'DISORDERLY CONDUCT',\n",
              "       'DRIVING UNDER THE INFLUENCE', 'FORGERY/COUNTERFEITING',\n",
              "       'EMBEZZLEMENT', 'BRIBERY', 'FAMILY OFFENSES', 'GAMBLING',\n",
              "       'SUICIDE', 'LIQUOR LAWS', 'EXTORTION', 'LOITERING', 'TREA',\n",
              "       'BAD CHECKS', 'PORNOGRAPHY/OBSCENE MAT'], dtype=object)"
            ]
          },
          "metadata": {
            "tags": []
          },
          "execution_count": 5
        }
      ]
    },
    {
      "cell_type": "markdown",
      "metadata": {
        "id": "Zvrwr2mbNl2R",
        "colab_type": "text"
      },
      "source": [
        "###Let's remove the crimes that wouldn't be a direct threat in the street"
      ]
    },
    {
      "cell_type": "code",
      "metadata": {
        "id": "3RbWswqPo2of",
        "colab_type": "code",
        "outputId": "075928ea-6fea-4d7d-9c82-53e9923d033d",
        "colab": {
          "base_uri": "https://localhost:8080/",
          "height": 34
        }
      },
      "source": [
        "# This depends on everyone's definition of a violent crime or environmental degradation, we are removing the following\n",
        "incident_filter = ['WEAPON LAWS',\n",
        "                   'WARRANTS',\n",
        "                   'NON-CRIMINAL',\n",
        "                   'MISSING PERSON',\n",
        "                   'FRAUD',\n",
        "                   'RECOVERED VEHICLE',\n",
        "                   'SECONDARY CODES',\n",
        "                   'RUNAWAY',\n",
        "                   'FORGERY/COUNTERFEITING',\n",
        "                   'EMBEZZLEMENT',\n",
        "                   'BRIBERY',\n",
        "                   'FAMILY OFFENSES',\n",
        "                   'GAMBLING',\n",
        "                   'SUICIDE',\n",
        "                   'BAD CHECKS',\n",
        "                   'PORNOGRAPHY/OBSCENE MAT']\n",
        "\n",
        "# Fancy operator to capture all but the above listed categories\n",
        "df_incidents = df_incidents[~df_incidents['Category'].isin(incident_filter)]\n",
        "\n",
        "df_incidents.shape # 114k, a bit better but still not the safest city in the world..."
      ],
      "execution_count": 6,
      "outputs": [
        {
          "output_type": "execute_result",
          "data": {
            "text/plain": [
              "(114339, 13)"
            ]
          },
          "metadata": {
            "tags": []
          },
          "execution_count": 6
        }
      ]
    },
    {
      "cell_type": "markdown",
      "metadata": {
        "id": "6kkrL5hFwg7S",
        "colab_type": "text"
      },
      "source": [
        "###And now we are removing the useless columns for our purpose"
      ]
    },
    {
      "cell_type": "code",
      "metadata": {
        "id": "D8_1BWV7w62g",
        "colab_type": "code",
        "colab": {}
      },
      "source": [
        "df_incidents.drop(['IncidntNum', 'Descript', 'DayOfWeek', 'Date', 'Time','PdDistrict', 'Resolution', 'Address', 'Location', 'PdId'], axis=1, inplace=True)"
      ],
      "execution_count": 0,
      "outputs": []
    },
    {
      "cell_type": "code",
      "metadata": {
        "id": "s0CPGaZknXO-",
        "colab_type": "code",
        "outputId": "08d97e05-621d-4243-f583-349da0d569d0",
        "colab": {
          "base_uri": "https://localhost:8080/",
          "height": 204
        }
      },
      "source": [
        "# All cleaned-up!\n",
        "df_incidents.head()"
      ],
      "execution_count": 8,
      "outputs": [
        {
          "output_type": "execute_result",
          "data": {
            "text/html": [
              "<div>\n",
              "<style scoped>\n",
              "    .dataframe tbody tr th:only-of-type {\n",
              "        vertical-align: middle;\n",
              "    }\n",
              "\n",
              "    .dataframe tbody tr th {\n",
              "        vertical-align: top;\n",
              "    }\n",
              "\n",
              "    .dataframe thead th {\n",
              "        text-align: right;\n",
              "    }\n",
              "</style>\n",
              "<table border=\"1\" class=\"dataframe\">\n",
              "  <thead>\n",
              "    <tr style=\"text-align: right;\">\n",
              "      <th></th>\n",
              "      <th>Category</th>\n",
              "      <th>X</th>\n",
              "      <th>Y</th>\n",
              "    </tr>\n",
              "  </thead>\n",
              "  <tbody>\n",
              "    <tr>\n",
              "      <th>5</th>\n",
              "      <td>ASSAULT</td>\n",
              "      <td>-122.426077</td>\n",
              "      <td>37.788019</td>\n",
              "    </tr>\n",
              "    <tr>\n",
              "      <th>6</th>\n",
              "      <td>OTHER OFFENSES</td>\n",
              "      <td>-122.405721</td>\n",
              "      <td>37.780879</td>\n",
              "    </tr>\n",
              "    <tr>\n",
              "      <th>10</th>\n",
              "      <td>LARCENY/THEFT</td>\n",
              "      <td>-122.477377</td>\n",
              "      <td>37.764478</td>\n",
              "    </tr>\n",
              "    <tr>\n",
              "      <th>12</th>\n",
              "      <td>OTHER OFFENSES</td>\n",
              "      <td>-122.376758</td>\n",
              "      <td>37.735697</td>\n",
              "    </tr>\n",
              "    <tr>\n",
              "      <th>13</th>\n",
              "      <td>ASSAULT</td>\n",
              "      <td>-122.432326</td>\n",
              "      <td>37.729271</td>\n",
              "    </tr>\n",
              "  </tbody>\n",
              "</table>\n",
              "</div>"
            ],
            "text/plain": [
              "          Category           X          Y\n",
              "5          ASSAULT -122.426077  37.788019\n",
              "6   OTHER OFFENSES -122.405721  37.780879\n",
              "10   LARCENY/THEFT -122.477377  37.764478\n",
              "12  OTHER OFFENSES -122.376758  37.735697\n",
              "13         ASSAULT -122.432326  37.729271"
            ]
          },
          "metadata": {
            "tags": []
          },
          "execution_count": 8
        }
      ]
    },
    {
      "cell_type": "markdown",
      "metadata": {
        "id": "pu8dRJrzywi6",
        "colab_type": "text"
      },
      "source": [
        "###Plotting a few incident to check if it all goes well"
      ]
    },
    {
      "cell_type": "code",
      "metadata": {
        "colab_type": "code",
        "id": "U3vF5TynpyKy",
        "outputId": "e7fcf365-c05a-42a4-8e54-f5d65dea17bb",
        "colab": {
          "base_uri": "https://localhost:8080/",
          "height": 34
        }
      },
      "source": [
        "# Getting the 100 first incidents\n",
        "limit = 100\n",
        "df_incidents_limit = df_incidents.iloc[0:limit, :]\n",
        "df_incidents_limit.shape"
      ],
      "execution_count": 9,
      "outputs": [
        {
          "output_type": "execute_result",
          "data": {
            "text/plain": [
              "(100, 3)"
            ]
          },
          "metadata": {
            "tags": []
          },
          "execution_count": 9
        }
      ]
    },
    {
      "cell_type": "code",
      "metadata": {
        "id": "528d0xzXnaCz",
        "colab_type": "code",
        "colab": {}
      },
      "source": [
        "# Create a map of San Francisco using latitude and longitude values\n",
        "sanfran_map = folium.Map(location=[latitude, longitude], zoom_start=12)\n",
        "\n",
        "# loop through the 100 crimes and add each to the incidents feature group\n",
        "for lat, lng, in zip(df_incidents_limit.Y, df_incidents_limit.X):\n",
        "    sanfran_map.add_child(\n",
        "        folium.vector_layers.CircleMarker(\n",
        "            [lat, lng],\n",
        "            radius=5, # define how big you want the circle markers to be\n",
        "            color='yellow',\n",
        "            fill=True,\n",
        "            fill_color='blue',\n",
        "            fill_opacity=0.6\n",
        "        )\n",
        "    )\n",
        "    \n",
        "sanfran_map"
      ],
      "execution_count": 0,
      "outputs": []
    },
    {
      "cell_type": "markdown",
      "metadata": {
        "id": "7pwfGsy6DgTb",
        "colab_type": "text"
      },
      "source": [
        "Picture for reference as Github won't display maps\n",
        "![Thumbnail of a the San Francisco map](https://raw.githubusercontent.com/marienbaptiste/IBM-Capstone/master/RSX/sf1.png)"
      ]
    },
    {
      "cell_type": "markdown",
      "metadata": {
        "id": "lnRoTBhQaIaw",
        "colab_type": "text"
      },
      "source": [
        "###Neighbordhood grouping"
      ]
    },
    {
      "cell_type": "markdown",
      "metadata": {
        "id": "ZFIzJ7gDZlZY",
        "colab_type": "text"
      },
      "source": [
        "We are in dire need for a way to attribute every single incident to a census block. Here comes the API provided by the US governement"
      ]
    },
    {
      "cell_type": "code",
      "metadata": {
        "id": "x9QTUgObf6VH",
        "colab_type": "code",
        "colab": {}
      },
      "source": [
        "import json\n",
        "import requests\n",
        "\n",
        "lat_test = 37.775421\n",
        "long_test = -122.403405\n",
        "\n",
        "#Test Api\n",
        "geocensus_url='https://geocoding.geo.census.gov/geocoder/geographies/coordinates?x={0}&y={1}&benchmark=9&vintage=910&format=json'.format(long_test, lat_test)\n",
        "js_api = json.loads(requests.get(geocensus_url).text)"
      ],
      "execution_count": 0,
      "outputs": []
    },
    {
      "cell_type": "markdown",
      "metadata": {
        "id": "zw_NTcULaRtZ",
        "colab_type": "text"
      },
      "source": [
        "Awesome! It works, let's hammer a .gov URL with 114k requests!\n",
        "... Actually, let's not, that a really bad idea.\n",
        "After some research, a nifty point to polygon collision has been found. The execution will be local and **will save us from being IP banned**"
      ]
    },
    {
      "cell_type": "markdown",
      "metadata": {
        "id": "Aqk_RlYWbUEo",
        "colab_type": "text"
      },
      "source": [
        "###Building a custom class and function to consume our library"
      ]
    },
    {
      "cell_type": "code",
      "metadata": {
        "id": "lz1JazO9RQoV",
        "colab_type": "code",
        "colab": {}
      },
      "source": [
        "# That magic library\n",
        "from shapely.geometry import shape, Point\n",
        "\n",
        "# Returned object\n",
        "class PointAsCensus:\n",
        "  Found = False #True if a matching block has been found\n",
        "  GeoID = None #Default GeoID\n",
        "  Name = None #Default friendly name\n",
        "  def __init__(self, found, geoid, name):\n",
        "    self.Found = found\n",
        "    self.GeoID = geoid\n",
        "    self.Name = name\n",
        "\n",
        "# Function to return a Census Tract ID if found in San Francisco\n",
        "def coord_to_sf_census_block(Json_as_text, X, Y):\n",
        "  # construct point based on lon/lat\n",
        "  point = Point(X, Y) \n",
        "  # check each polygon to see if it contains the point\n",
        "  for feature in Json_as_text['features']:\n",
        "    polygon = shape(feature['geometry'])\n",
        "    if polygon.contains(point):\n",
        "        return (PointAsCensus(True,feature['properties']['GEOID10'],feature['properties']['NAMELSAD10']))\n",
        "        break\n",
        "  return (PointAsCensus(False, None, None))"
      ],
      "execution_count": 0,
      "outputs": []
    },
    {
      "cell_type": "code",
      "metadata": {
        "id": "_9a80aJdRdro",
        "colab_type": "code",
        "outputId": "8ecc5206-f485-47ae-fc88-24e1a197ccd6",
        "colab": {
          "base_uri": "https://localhost:8080/",
          "height": 34
        }
      },
      "source": [
        "# A quick test run with the San Francisco coordinates\n",
        "js_census = json.loads(requests.get('https://raw.githubusercontent.com/marienbaptiste/IBM-Capstone/master/RSX/2010_san_francisco_census_tracts.geojson').text)\n",
        "\n",
        "area = coord_to_sf_census_block(js_census, long_test, lat_test)\n",
        "print(area.Name) # It works and it is reliable!"
      ],
      "execution_count": 13,
      "outputs": [
        {
          "output_type": "stream",
          "text": [
            "Census Tract 180\n"
          ],
          "name": "stdout"
        }
      ]
    },
    {
      "cell_type": "code",
      "metadata": {
        "id": "rK1D3WGJgxtP",
        "colab_type": "code",
        "outputId": "17785462-d9ab-42a9-8817-6de589ba1d80",
        "colab": {
          "base_uri": "https://localhost:8080/",
          "height": 34
        }
      },
      "source": [
        "# Comparing to the reference API...\n",
        "print ('The same value has been found with the API') if str(js_api).find(area.Name)!=-1 else ('The API found a different value')\n"
      ],
      "execution_count": 14,
      "outputs": [
        {
          "output_type": "stream",
          "text": [
            "The same value has been found with the API\n"
          ],
          "name": "stdout"
        }
      ]
    },
    {
      "cell_type": "markdown",
      "metadata": {
        "id": "3h5mL_DebqoB",
        "colab_type": "text"
      },
      "source": [
        "###Batch processing"
      ]
    },
    {
      "cell_type": "markdown",
      "metadata": {
        "id": "hokMu3glbtQX",
        "colab_type": "text"
      },
      "source": [
        "This bit of code is **VERY processing intensive**, it takes a serious amount of time (~3mins) to process. Also, our Kernel seems to crash hwhen processing more than 5000 inputs at a time. The solution found is to:\n",
        "\n",
        "\n",
        "1.   Split our processing into batches, we can also witness the progress this way\n",
        "2.   Save the result once processed in a pkl file (which preserves the data types)\n",
        "3.   Reuse the saved file on subsequent runs to save a massive amount of time\n",
        "\n",
        "All of that is controlled by the widget following\n"
      ]
    },
    {
      "cell_type": "code",
      "metadata": {
        "id": "b-QPNG7t2BQb",
        "colab_type": "code",
        "colab": {}
      },
      "source": [
        "#@title Crimes Set Options { vertical-output: true, display-mode: \"form\" }\n",
        "generate_crimes_file = False #@param {type:\"boolean\"}"
      ],
      "execution_count": 0,
      "outputs": []
    },
    {
      "cell_type": "code",
      "metadata": {
        "id": "VV4J7iMXYz91",
        "colab_type": "code",
        "outputId": "f33a94e9-1e84-4244-daf8-f4d2ce05f4e5",
        "colab": {
          "base_uri": "https://localhost:8080/",
          "height": 156
        }
      },
      "source": [
        "# This bit mounts a Google Drive, asking for credentials \n",
        "from google.colab import drive\n",
        "drive.mount('drive')\n",
        "df_incidents_census = pd.DataFrame() # Initializing our result object\n",
        "\n",
        "# Boolean switch to force generate or use stored file on Drive\n",
        "if generate_crimes_file:\n",
        "  # Attributing census block ID from scratch\n",
        "  print(\"generating file...\")\n",
        "  import sys\n",
        "\n",
        "  i=0\n",
        "  chunks=100 # Size of our chunks, 100 seems like a good balance between feedback, speed and reliability\n",
        "  for item in np.array_split(df_incidents, chunks):\n",
        "      i +=  1\n",
        "      sys.stdout.write('\\rProgress: {:.0f}% '.format(i*chunks/100)) # Primitive progress indicator\n",
        "      item['Census'] = item.apply(lambda row: coord_to_sf_census_block(js_census, row['X'], row['Y']).GeoID, axis=1) # Lambda expression to update every row with its matching census block ID\n",
        "      df_incidents_census=df_incidents_census.append(item)\n",
        "  \n",
        "  df_incidents_census.to_pickle('sf_crimes.pkl') # Save as a pickle file, smaller than csv, typed, but bad for debugging as the payload is compressed\n",
        "  !cp sf_crimes.pkl drive/My\\ Drive/Colab\\ Notebooks/Data\n",
        "  print(\"file generated!\")\n",
        "else:\n",
        "  #Reusing formerly saved file (this saves roughly 3mins)\n",
        "  print(\"using local file...\")\n",
        "  path = \"/content/drive/My Drive/Colab Notebooks/Data/sf_crimes.pkl\"\n",
        "  df_incidents_census = pd.read_pickle(path)\n",
        "\n",
        "  print(\"file loaded...\")"
      ],
      "execution_count": 16,
      "outputs": [
        {
          "output_type": "stream",
          "text": [
            "Go to this URL in a browser: https://accounts.google.com/o/oauth2/auth?client_id=947318989803-6bn6qk8qdgf4n4g3pfee6491hc0brc4i.apps.googleusercontent.com&redirect_uri=urn%3aietf%3awg%3aoauth%3a2.0%3aoob&response_type=code&scope=email%20https%3a%2f%2fwww.googleapis.com%2fauth%2fdocs.test%20https%3a%2f%2fwww.googleapis.com%2fauth%2fdrive%20https%3a%2f%2fwww.googleapis.com%2fauth%2fdrive.photos.readonly%20https%3a%2f%2fwww.googleapis.com%2fauth%2fpeopleapi.readonly\n",
            "\n",
            "Enter your authorization code:\n",
            "··········\n",
            "Mounted at drive\n",
            "using local file...\n",
            "file loaded...\n"
          ],
          "name": "stdout"
        }
      ]
    },
    {
      "cell_type": "code",
      "metadata": {
        "id": "01Lra6zS0LaN",
        "colab_type": "code",
        "outputId": "7155a89f-a193-4523-bcad-6c19bbac045b",
        "colab": {
          "base_uri": "https://localhost:8080/",
          "height": 34
        }
      },
      "source": [
        "df_incidents_census.shape # Verifying that the amount of rows has been preserved"
      ],
      "execution_count": 17,
      "outputs": [
        {
          "output_type": "execute_result",
          "data": {
            "text/plain": [
              "(114339, 4)"
            ]
          },
          "metadata": {
            "tags": []
          },
          "execution_count": 17
        }
      ]
    },
    {
      "cell_type": "code",
      "metadata": {
        "id": "b8wIcuPC044g",
        "colab_type": "code",
        "outputId": "ee4ec18c-19d0-4c10-9d17-ba1ae2ac0a63",
        "colab": {
          "base_uri": "https://localhost:8080/",
          "height": 204
        }
      },
      "source": [
        "df_incidents_census.head() # Nice, the column has been added and Census is populated, we are now able to attribute each incident to a Census Block and group them"
      ],
      "execution_count": 18,
      "outputs": [
        {
          "output_type": "execute_result",
          "data": {
            "text/html": [
              "<div>\n",
              "<style scoped>\n",
              "    .dataframe tbody tr th:only-of-type {\n",
              "        vertical-align: middle;\n",
              "    }\n",
              "\n",
              "    .dataframe tbody tr th {\n",
              "        vertical-align: top;\n",
              "    }\n",
              "\n",
              "    .dataframe thead th {\n",
              "        text-align: right;\n",
              "    }\n",
              "</style>\n",
              "<table border=\"1\" class=\"dataframe\">\n",
              "  <thead>\n",
              "    <tr style=\"text-align: right;\">\n",
              "      <th></th>\n",
              "      <th>Category</th>\n",
              "      <th>X</th>\n",
              "      <th>Y</th>\n",
              "      <th>Census</th>\n",
              "    </tr>\n",
              "  </thead>\n",
              "  <tbody>\n",
              "    <tr>\n",
              "      <th>5</th>\n",
              "      <td>ASSAULT</td>\n",
              "      <td>-122.426077</td>\n",
              "      <td>37.788019</td>\n",
              "      <td>06075015200</td>\n",
              "    </tr>\n",
              "    <tr>\n",
              "      <th>6</th>\n",
              "      <td>OTHER OFFENSES</td>\n",
              "      <td>-122.405721</td>\n",
              "      <td>37.780879</td>\n",
              "      <td>06075017601</td>\n",
              "    </tr>\n",
              "    <tr>\n",
              "      <th>10</th>\n",
              "      <td>LARCENY/THEFT</td>\n",
              "      <td>-122.477377</td>\n",
              "      <td>37.764478</td>\n",
              "      <td>06075032601</td>\n",
              "    </tr>\n",
              "    <tr>\n",
              "      <th>12</th>\n",
              "      <td>OTHER OFFENSES</td>\n",
              "      <td>-122.376758</td>\n",
              "      <td>37.735697</td>\n",
              "      <td>06075023103</td>\n",
              "    </tr>\n",
              "    <tr>\n",
              "      <th>13</th>\n",
              "      <td>ASSAULT</td>\n",
              "      <td>-122.432326</td>\n",
              "      <td>37.729271</td>\n",
              "      <td>06075025500</td>\n",
              "    </tr>\n",
              "  </tbody>\n",
              "</table>\n",
              "</div>"
            ],
            "text/plain": [
              "          Category           X          Y       Census\n",
              "5          ASSAULT -122.426077  37.788019  06075015200\n",
              "6   OTHER OFFENSES -122.405721  37.780879  06075017601\n",
              "10   LARCENY/THEFT -122.477377  37.764478  06075032601\n",
              "12  OTHER OFFENSES -122.376758  37.735697  06075023103\n",
              "13         ASSAULT -122.432326  37.729271  06075025500"
            ]
          },
          "metadata": {
            "tags": []
          },
          "execution_count": 18
        }
      ]
    },
    {
      "cell_type": "markdown",
      "metadata": {
        "id": "u8nS5kxve1-R",
        "colab_type": "text"
      },
      "source": [
        "###Cleaning up the data"
      ]
    },
    {
      "cell_type": "code",
      "metadata": {
        "id": "PV-ZT-xV3TJA",
        "colab_type": "code",
        "outputId": "ec9c6871-3295-431d-80bd-ad5b0ad82ad4",
        "colab": {
          "base_uri": "https://localhost:8080/",
          "height": 34
        }
      },
      "source": [
        "# Check if missing value\n",
        "print ('This dataframe is missing {0} area values'.format(df_incidents_census['Census'].isnull().sum()))"
      ],
      "execution_count": 19,
      "outputs": [
        {
          "output_type": "stream",
          "text": [
            "This dataframe is missing 193 area values\n"
          ],
          "name": "stdout"
        }
      ]
    },
    {
      "cell_type": "code",
      "metadata": {
        "id": "3fSIA7hSUq_6",
        "colab_type": "code",
        "outputId": "42b101b2-18bc-41b6-fc08-b47c8629e8df",
        "colab": {
          "base_uri": "https://localhost:8080/",
          "height": 204
        }
      },
      "source": [
        "df_miss=df_incidents_census[df_incidents_census['Census'].isnull()]\n",
        "df_miss.head() # Ouch... Some Incidents can't be attributed to a census block. We need to plot that to understand what is happening"
      ],
      "execution_count": 20,
      "outputs": [
        {
          "output_type": "execute_result",
          "data": {
            "text/html": [
              "<div>\n",
              "<style scoped>\n",
              "    .dataframe tbody tr th:only-of-type {\n",
              "        vertical-align: middle;\n",
              "    }\n",
              "\n",
              "    .dataframe tbody tr th {\n",
              "        vertical-align: top;\n",
              "    }\n",
              "\n",
              "    .dataframe thead th {\n",
              "        text-align: right;\n",
              "    }\n",
              "</style>\n",
              "<table border=\"1\" class=\"dataframe\">\n",
              "  <thead>\n",
              "    <tr style=\"text-align: right;\">\n",
              "      <th></th>\n",
              "      <th>Category</th>\n",
              "      <th>X</th>\n",
              "      <th>Y</th>\n",
              "      <th>Census</th>\n",
              "    </tr>\n",
              "  </thead>\n",
              "  <tbody>\n",
              "    <tr>\n",
              "      <th>435</th>\n",
              "      <td>OTHER OFFENSES</td>\n",
              "      <td>-122.365565</td>\n",
              "      <td>37.809671</td>\n",
              "      <td>None</td>\n",
              "    </tr>\n",
              "    <tr>\n",
              "      <th>925</th>\n",
              "      <td>TRESPASS</td>\n",
              "      <td>-122.365565</td>\n",
              "      <td>37.809671</td>\n",
              "      <td>None</td>\n",
              "    </tr>\n",
              "    <tr>\n",
              "      <th>2457</th>\n",
              "      <td>ARSON</td>\n",
              "      <td>-122.365565</td>\n",
              "      <td>37.809671</td>\n",
              "      <td>None</td>\n",
              "    </tr>\n",
              "    <tr>\n",
              "      <th>3188</th>\n",
              "      <td>BURGLARY</td>\n",
              "      <td>-122.365565</td>\n",
              "      <td>37.809671</td>\n",
              "      <td>None</td>\n",
              "    </tr>\n",
              "    <tr>\n",
              "      <th>3829</th>\n",
              "      <td>LARCENY/THEFT</td>\n",
              "      <td>-122.365565</td>\n",
              "      <td>37.809671</td>\n",
              "      <td>None</td>\n",
              "    </tr>\n",
              "  </tbody>\n",
              "</table>\n",
              "</div>"
            ],
            "text/plain": [
              "            Category           X          Y Census\n",
              "435   OTHER OFFENSES -122.365565  37.809671   None\n",
              "925         TRESPASS -122.365565  37.809671   None\n",
              "2457           ARSON -122.365565  37.809671   None\n",
              "3188        BURGLARY -122.365565  37.809671   None\n",
              "3829   LARCENY/THEFT -122.365565  37.809671   None"
            ]
          },
          "metadata": {
            "tags": []
          },
          "execution_count": 20
        }
      ]
    },
    {
      "cell_type": "code",
      "metadata": {
        "id": "Z3W4ZoacZtZK",
        "colab_type": "code",
        "colab": {}
      },
      "source": [
        "#Create a map of San Francisco using latitude and longitude values\n",
        "sanfran_map = folium.Map(location=[latitude, longitude], zoom_start=12, tiles='Stamen Toner')\n",
        "\n",
        "#Add markers to map\n",
        "for lat, lng, in zip(df_miss.Y, df_miss.X):\n",
        "    sanfran_map.add_child(\n",
        "        folium.vector_layers.CircleMarker(\n",
        "            [lat, lng],\n",
        "            radius=5, # define how big you want the circle markers to be\n",
        "            color='yellow',\n",
        "            fill=True,\n",
        "            fill_color='black',\n",
        "            fill_opacity=0.6\n",
        "        )\n",
        "    )\n",
        "    \n",
        "sanfran_map"
      ],
      "execution_count": 0,
      "outputs": []
    },
    {
      "cell_type": "markdown",
      "metadata": {
        "id": "QB_WLm6AD-K9",
        "colab_type": "text"
      },
      "source": [
        "Picture for reference as Github won't display maps\n",
        "![Thumbnail of a the San Francisco map](https://raw.githubusercontent.com/marienbaptiste/IBM-Capstone/master/RSX/sf2.png)"
      ]
    },
    {
      "cell_type": "markdown",
      "metadata": {
        "id": "LdoNJSA_27Lu",
        "colab_type": "text"
      },
      "source": [
        "It appears that those values are on the borders, so we can get rid off then!\n",
        "The simple translation is that **our definition of San Francisco does not match perfectly what the police report defines as San Francisco**. No real problem since we are working on the census blocks definition. Information bleading out of our scope is actually a good thing and confirms that we won't have partial values for the border blocks."
      ]
    },
    {
      "cell_type": "code",
      "metadata": {
        "id": "aVmJ1stLas6w",
        "colab_type": "code",
        "colab": {}
      },
      "source": [
        "# Remorseless deletion\n",
        "df_incidents_census.dropna(inplace=True)\n",
        "df_incidents_census.reset_index(drop=True, inplace=True)"
      ],
      "execution_count": 0,
      "outputs": []
    },
    {
      "cell_type": "markdown",
      "metadata": {
        "id": "Ph958n5vfo7G",
        "colab_type": "text"
      },
      "source": [
        "###Create dummies from categories"
      ]
    },
    {
      "cell_type": "code",
      "metadata": {
        "id": "e3iH_jIs30oQ",
        "colab_type": "code",
        "outputId": "7e23a5b8-4a2a-46cf-e33d-81d248d07409",
        "colab": {
          "base_uri": "https://localhost:8080/",
          "height": 309
        }
      },
      "source": [
        "# Creating dummies just for good practice, in case we are finding oddities\n",
        "df_incidents_census = pd.concat([df_incidents_census, pd.get_dummies(df_incidents_census['Category'])], axis=1)\n",
        "df_incidents_census.head()"
      ],
      "execution_count": 23,
      "outputs": [
        {
          "output_type": "execute_result",
          "data": {
            "text/html": [
              "<div>\n",
              "<style scoped>\n",
              "    .dataframe tbody tr th:only-of-type {\n",
              "        vertical-align: middle;\n",
              "    }\n",
              "\n",
              "    .dataframe tbody tr th {\n",
              "        vertical-align: top;\n",
              "    }\n",
              "\n",
              "    .dataframe thead th {\n",
              "        text-align: right;\n",
              "    }\n",
              "</style>\n",
              "<table border=\"1\" class=\"dataframe\">\n",
              "  <thead>\n",
              "    <tr style=\"text-align: right;\">\n",
              "      <th></th>\n",
              "      <th>Category</th>\n",
              "      <th>X</th>\n",
              "      <th>Y</th>\n",
              "      <th>Census</th>\n",
              "      <th>ARSON</th>\n",
              "      <th>ASSAULT</th>\n",
              "      <th>BURGLARY</th>\n",
              "      <th>DISORDERLY CONDUCT</th>\n",
              "      <th>DRIVING UNDER THE INFLUENCE</th>\n",
              "      <th>DRUG/NARCOTIC</th>\n",
              "      <th>DRUNKENNESS</th>\n",
              "      <th>EXTORTION</th>\n",
              "      <th>KIDNAPPING</th>\n",
              "      <th>LARCENY/THEFT</th>\n",
              "      <th>LIQUOR LAWS</th>\n",
              "      <th>LOITERING</th>\n",
              "      <th>OTHER OFFENSES</th>\n",
              "      <th>PROSTITUTION</th>\n",
              "      <th>ROBBERY</th>\n",
              "      <th>SEX OFFENSES, FORCIBLE</th>\n",
              "      <th>SEX OFFENSES, NON FORCIBLE</th>\n",
              "      <th>STOLEN PROPERTY</th>\n",
              "      <th>SUSPICIOUS OCC</th>\n",
              "      <th>TREA</th>\n",
              "      <th>TRESPASS</th>\n",
              "      <th>VANDALISM</th>\n",
              "      <th>VEHICLE THEFT</th>\n",
              "    </tr>\n",
              "  </thead>\n",
              "  <tbody>\n",
              "    <tr>\n",
              "      <th>0</th>\n",
              "      <td>ASSAULT</td>\n",
              "      <td>-122.426077</td>\n",
              "      <td>37.788019</td>\n",
              "      <td>06075015200</td>\n",
              "      <td>0</td>\n",
              "      <td>1</td>\n",
              "      <td>0</td>\n",
              "      <td>0</td>\n",
              "      <td>0</td>\n",
              "      <td>0</td>\n",
              "      <td>0</td>\n",
              "      <td>0</td>\n",
              "      <td>0</td>\n",
              "      <td>0</td>\n",
              "      <td>0</td>\n",
              "      <td>0</td>\n",
              "      <td>0</td>\n",
              "      <td>0</td>\n",
              "      <td>0</td>\n",
              "      <td>0</td>\n",
              "      <td>0</td>\n",
              "      <td>0</td>\n",
              "      <td>0</td>\n",
              "      <td>0</td>\n",
              "      <td>0</td>\n",
              "      <td>0</td>\n",
              "      <td>0</td>\n",
              "    </tr>\n",
              "    <tr>\n",
              "      <th>1</th>\n",
              "      <td>OTHER OFFENSES</td>\n",
              "      <td>-122.405721</td>\n",
              "      <td>37.780879</td>\n",
              "      <td>06075017601</td>\n",
              "      <td>0</td>\n",
              "      <td>0</td>\n",
              "      <td>0</td>\n",
              "      <td>0</td>\n",
              "      <td>0</td>\n",
              "      <td>0</td>\n",
              "      <td>0</td>\n",
              "      <td>0</td>\n",
              "      <td>0</td>\n",
              "      <td>0</td>\n",
              "      <td>0</td>\n",
              "      <td>0</td>\n",
              "      <td>1</td>\n",
              "      <td>0</td>\n",
              "      <td>0</td>\n",
              "      <td>0</td>\n",
              "      <td>0</td>\n",
              "      <td>0</td>\n",
              "      <td>0</td>\n",
              "      <td>0</td>\n",
              "      <td>0</td>\n",
              "      <td>0</td>\n",
              "      <td>0</td>\n",
              "    </tr>\n",
              "    <tr>\n",
              "      <th>2</th>\n",
              "      <td>LARCENY/THEFT</td>\n",
              "      <td>-122.477377</td>\n",
              "      <td>37.764478</td>\n",
              "      <td>06075032601</td>\n",
              "      <td>0</td>\n",
              "      <td>0</td>\n",
              "      <td>0</td>\n",
              "      <td>0</td>\n",
              "      <td>0</td>\n",
              "      <td>0</td>\n",
              "      <td>0</td>\n",
              "      <td>0</td>\n",
              "      <td>0</td>\n",
              "      <td>1</td>\n",
              "      <td>0</td>\n",
              "      <td>0</td>\n",
              "      <td>0</td>\n",
              "      <td>0</td>\n",
              "      <td>0</td>\n",
              "      <td>0</td>\n",
              "      <td>0</td>\n",
              "      <td>0</td>\n",
              "      <td>0</td>\n",
              "      <td>0</td>\n",
              "      <td>0</td>\n",
              "      <td>0</td>\n",
              "      <td>0</td>\n",
              "    </tr>\n",
              "    <tr>\n",
              "      <th>3</th>\n",
              "      <td>OTHER OFFENSES</td>\n",
              "      <td>-122.376758</td>\n",
              "      <td>37.735697</td>\n",
              "      <td>06075023103</td>\n",
              "      <td>0</td>\n",
              "      <td>0</td>\n",
              "      <td>0</td>\n",
              "      <td>0</td>\n",
              "      <td>0</td>\n",
              "      <td>0</td>\n",
              "      <td>0</td>\n",
              "      <td>0</td>\n",
              "      <td>0</td>\n",
              "      <td>0</td>\n",
              "      <td>0</td>\n",
              "      <td>0</td>\n",
              "      <td>1</td>\n",
              "      <td>0</td>\n",
              "      <td>0</td>\n",
              "      <td>0</td>\n",
              "      <td>0</td>\n",
              "      <td>0</td>\n",
              "      <td>0</td>\n",
              "      <td>0</td>\n",
              "      <td>0</td>\n",
              "      <td>0</td>\n",
              "      <td>0</td>\n",
              "    </tr>\n",
              "    <tr>\n",
              "      <th>4</th>\n",
              "      <td>ASSAULT</td>\n",
              "      <td>-122.432326</td>\n",
              "      <td>37.729271</td>\n",
              "      <td>06075025500</td>\n",
              "      <td>0</td>\n",
              "      <td>1</td>\n",
              "      <td>0</td>\n",
              "      <td>0</td>\n",
              "      <td>0</td>\n",
              "      <td>0</td>\n",
              "      <td>0</td>\n",
              "      <td>0</td>\n",
              "      <td>0</td>\n",
              "      <td>0</td>\n",
              "      <td>0</td>\n",
              "      <td>0</td>\n",
              "      <td>0</td>\n",
              "      <td>0</td>\n",
              "      <td>0</td>\n",
              "      <td>0</td>\n",
              "      <td>0</td>\n",
              "      <td>0</td>\n",
              "      <td>0</td>\n",
              "      <td>0</td>\n",
              "      <td>0</td>\n",
              "      <td>0</td>\n",
              "      <td>0</td>\n",
              "    </tr>\n",
              "  </tbody>\n",
              "</table>\n",
              "</div>"
            ],
            "text/plain": [
              "         Category           X          Y  ... TRESPASS  VANDALISM  VEHICLE THEFT\n",
              "0         ASSAULT -122.426077  37.788019  ...        0          0              0\n",
              "1  OTHER OFFENSES -122.405721  37.780879  ...        0          0              0\n",
              "2   LARCENY/THEFT -122.477377  37.764478  ...        0          0              0\n",
              "3  OTHER OFFENSES -122.376758  37.735697  ...        0          0              0\n",
              "4         ASSAULT -122.432326  37.729271  ...        0          0              0\n",
              "\n",
              "[5 rows x 27 columns]"
            ]
          },
          "metadata": {
            "tags": []
          },
          "execution_count": 23
        }
      ]
    },
    {
      "cell_type": "markdown",
      "metadata": {
        "id": "90kBi1o3iZne",
        "colab_type": "text"
      },
      "source": [
        "###Grouping"
      ]
    },
    {
      "cell_type": "code",
      "metadata": {
        "id": "FxyHsgfbgLFN",
        "colab_type": "code",
        "colab": {}
      },
      "source": [
        "# Proceed to aggregate neighbourhood sharing Census\n",
        "\n",
        "# Remove the useless Coords\n",
        "df_incidents_grouped = df_incidents_census.drop(columns=['X', 'Y'])\n",
        "\n",
        "# Aggregate and sum\n",
        "df_incidents_grouped = df_incidents_grouped.groupby(['Census'], sort=True).sum()\n",
        "df_incidents_grouped.columns = map(str.capitalize, df_incidents_grouped.columns) #OCD renaming\n",
        "df_incidents_grouped.reset_index(inplace=True) #Reset the index to 0\n",
        "\n",
        "# Adding and extra column for the sum of incidents, excluding the Census from the sum is not necessary as it is an object and therefore skipped, but just for the sake of it, let's filter it out \n",
        "col_list = df_incidents_grouped.columns.drop('Census') #All columns except Census\n",
        "df_incidents_grouped['Crimes'] = df_incidents_grouped[col_list].sum(axis=1) #Generating a total column\n",
        "col_list = df_incidents_grouped.columns.drop('Census') #Update\n",
        "#df_incidents_grouped[col_list] = df_incidents_grouped[col_list].astype(int) #Fixing the casting to float when making the sum"
      ],
      "execution_count": 0,
      "outputs": []
    },
    {
      "cell_type": "code",
      "metadata": {
        "id": "KnK8HY1wCc3T",
        "colab_type": "code",
        "outputId": "af50d87b-ff32-4945-e78d-c19ae894514d",
        "colab": {
          "base_uri": "https://localhost:8080/",
          "height": 34
        }
      },
      "source": [
        "df_incidents_grouped.shape # Thats a lot smaller!"
      ],
      "execution_count": 25,
      "outputs": [
        {
          "output_type": "execute_result",
          "data": {
            "text/plain": [
              "(194, 25)"
            ]
          },
          "metadata": {
            "tags": []
          },
          "execution_count": 25
        }
      ]
    },
    {
      "cell_type": "code",
      "metadata": {
        "id": "1BQXCOkml_7x",
        "colab_type": "code",
        "outputId": "866bed56-6d02-4e4a-b5ab-2a1d43ad8fce",
        "colab": {
          "base_uri": "https://localhost:8080/",
          "height": 275
        }
      },
      "source": [
        "df_incidents_grouped.head()"
      ],
      "execution_count": 26,
      "outputs": [
        {
          "output_type": "execute_result",
          "data": {
            "text/html": [
              "<div>\n",
              "<style scoped>\n",
              "    .dataframe tbody tr th:only-of-type {\n",
              "        vertical-align: middle;\n",
              "    }\n",
              "\n",
              "    .dataframe tbody tr th {\n",
              "        vertical-align: top;\n",
              "    }\n",
              "\n",
              "    .dataframe thead th {\n",
              "        text-align: right;\n",
              "    }\n",
              "</style>\n",
              "<table border=\"1\" class=\"dataframe\">\n",
              "  <thead>\n",
              "    <tr style=\"text-align: right;\">\n",
              "      <th></th>\n",
              "      <th>Census</th>\n",
              "      <th>Arson</th>\n",
              "      <th>Assault</th>\n",
              "      <th>Burglary</th>\n",
              "      <th>Disorderly conduct</th>\n",
              "      <th>Driving under the influence</th>\n",
              "      <th>Drug/narcotic</th>\n",
              "      <th>Drunkenness</th>\n",
              "      <th>Extortion</th>\n",
              "      <th>Kidnapping</th>\n",
              "      <th>Larceny/theft</th>\n",
              "      <th>Liquor laws</th>\n",
              "      <th>Loitering</th>\n",
              "      <th>Other offenses</th>\n",
              "      <th>Prostitution</th>\n",
              "      <th>Robbery</th>\n",
              "      <th>Sex offenses, forcible</th>\n",
              "      <th>Sex offenses, non forcible</th>\n",
              "      <th>Stolen property</th>\n",
              "      <th>Suspicious occ</th>\n",
              "      <th>Trea</th>\n",
              "      <th>Trespass</th>\n",
              "      <th>Vandalism</th>\n",
              "      <th>Vehicle theft</th>\n",
              "      <th>Crimes</th>\n",
              "    </tr>\n",
              "  </thead>\n",
              "  <tbody>\n",
              "    <tr>\n",
              "      <th>0</th>\n",
              "      <td>06075010100</td>\n",
              "      <td>2.0</td>\n",
              "      <td>157.0</td>\n",
              "      <td>67.0</td>\n",
              "      <td>4.0</td>\n",
              "      <td>3.0</td>\n",
              "      <td>29.0</td>\n",
              "      <td>4.0</td>\n",
              "      <td>0.0</td>\n",
              "      <td>0.0</td>\n",
              "      <td>1596.0</td>\n",
              "      <td>5.0</td>\n",
              "      <td>2.0</td>\n",
              "      <td>235.0</td>\n",
              "      <td>0.0</td>\n",
              "      <td>43.0</td>\n",
              "      <td>4.0</td>\n",
              "      <td>0.0</td>\n",
              "      <td>34.0</td>\n",
              "      <td>70.0</td>\n",
              "      <td>0.0</td>\n",
              "      <td>16.0</td>\n",
              "      <td>209.0</td>\n",
              "      <td>47.0</td>\n",
              "      <td>2527.0</td>\n",
              "    </tr>\n",
              "    <tr>\n",
              "      <th>1</th>\n",
              "      <td>06075010200</td>\n",
              "      <td>1.0</td>\n",
              "      <td>53.0</td>\n",
              "      <td>42.0</td>\n",
              "      <td>0.0</td>\n",
              "      <td>5.0</td>\n",
              "      <td>9.0</td>\n",
              "      <td>0.0</td>\n",
              "      <td>0.0</td>\n",
              "      <td>5.0</td>\n",
              "      <td>781.0</td>\n",
              "      <td>1.0</td>\n",
              "      <td>0.0</td>\n",
              "      <td>94.0</td>\n",
              "      <td>0.0</td>\n",
              "      <td>18.0</td>\n",
              "      <td>6.0</td>\n",
              "      <td>0.0</td>\n",
              "      <td>12.0</td>\n",
              "      <td>28.0</td>\n",
              "      <td>0.0</td>\n",
              "      <td>8.0</td>\n",
              "      <td>87.0</td>\n",
              "      <td>34.0</td>\n",
              "      <td>1184.0</td>\n",
              "    </tr>\n",
              "    <tr>\n",
              "      <th>2</th>\n",
              "      <td>06075010300</td>\n",
              "      <td>0.0</td>\n",
              "      <td>21.0</td>\n",
              "      <td>20.0</td>\n",
              "      <td>0.0</td>\n",
              "      <td>1.0</td>\n",
              "      <td>5.0</td>\n",
              "      <td>1.0</td>\n",
              "      <td>0.0</td>\n",
              "      <td>0.0</td>\n",
              "      <td>197.0</td>\n",
              "      <td>0.0</td>\n",
              "      <td>0.0</td>\n",
              "      <td>70.0</td>\n",
              "      <td>0.0</td>\n",
              "      <td>11.0</td>\n",
              "      <td>4.0</td>\n",
              "      <td>0.0</td>\n",
              "      <td>9.0</td>\n",
              "      <td>20.0</td>\n",
              "      <td>0.0</td>\n",
              "      <td>4.0</td>\n",
              "      <td>40.0</td>\n",
              "      <td>25.0</td>\n",
              "      <td>428.0</td>\n",
              "    </tr>\n",
              "    <tr>\n",
              "      <th>3</th>\n",
              "      <td>06075010400</td>\n",
              "      <td>1.0</td>\n",
              "      <td>23.0</td>\n",
              "      <td>23.0</td>\n",
              "      <td>1.0</td>\n",
              "      <td>0.0</td>\n",
              "      <td>4.0</td>\n",
              "      <td>2.0</td>\n",
              "      <td>0.0</td>\n",
              "      <td>0.0</td>\n",
              "      <td>179.0</td>\n",
              "      <td>0.0</td>\n",
              "      <td>1.0</td>\n",
              "      <td>50.0</td>\n",
              "      <td>0.0</td>\n",
              "      <td>8.0</td>\n",
              "      <td>2.0</td>\n",
              "      <td>0.0</td>\n",
              "      <td>0.0</td>\n",
              "      <td>18.0</td>\n",
              "      <td>0.0</td>\n",
              "      <td>5.0</td>\n",
              "      <td>50.0</td>\n",
              "      <td>27.0</td>\n",
              "      <td>394.0</td>\n",
              "    </tr>\n",
              "    <tr>\n",
              "      <th>4</th>\n",
              "      <td>06075010500</td>\n",
              "      <td>2.0</td>\n",
              "      <td>89.0</td>\n",
              "      <td>75.0</td>\n",
              "      <td>5.0</td>\n",
              "      <td>1.0</td>\n",
              "      <td>16.0</td>\n",
              "      <td>7.0</td>\n",
              "      <td>0.0</td>\n",
              "      <td>1.0</td>\n",
              "      <td>740.0</td>\n",
              "      <td>1.0</td>\n",
              "      <td>0.0</td>\n",
              "      <td>164.0</td>\n",
              "      <td>0.0</td>\n",
              "      <td>24.0</td>\n",
              "      <td>8.0</td>\n",
              "      <td>0.0</td>\n",
              "      <td>27.0</td>\n",
              "      <td>48.0</td>\n",
              "      <td>0.0</td>\n",
              "      <td>24.0</td>\n",
              "      <td>104.0</td>\n",
              "      <td>37.0</td>\n",
              "      <td>1373.0</td>\n",
              "    </tr>\n",
              "  </tbody>\n",
              "</table>\n",
              "</div>"
            ],
            "text/plain": [
              "        Census  Arson  Assault  ...  Vandalism  Vehicle theft  Crimes\n",
              "0  06075010100    2.0    157.0  ...      209.0           47.0  2527.0\n",
              "1  06075010200    1.0     53.0  ...       87.0           34.0  1184.0\n",
              "2  06075010300    0.0     21.0  ...       40.0           25.0   428.0\n",
              "3  06075010400    1.0     23.0  ...       50.0           27.0   394.0\n",
              "4  06075010500    2.0     89.0  ...      104.0           37.0  1373.0\n",
              "\n",
              "[5 rows x 25 columns]"
            ]
          },
          "metadata": {
            "tags": []
          },
          "execution_count": 26
        }
      ]
    },
    {
      "cell_type": "markdown",
      "metadata": {
        "id": "ZLOyU2HO3mtq",
        "colab_type": "text"
      },
      "source": [
        "###Merging the Average Income per Household value to serve as a test sample (2013-2017)"
      ]
    },
    {
      "cell_type": "code",
      "metadata": {
        "id": "0K8-6XWH33jh",
        "colab_type": "code",
        "outputId": "041d2c3c-fafe-4ba9-e144-61460dcea834",
        "colab": {
          "base_uri": "https://localhost:8080/",
          "height": 34
        }
      },
      "source": [
        "df_incomes = pd.read_csv('https://raw.githubusercontent.com/marienbaptiste/IBM-Capstone/master/RSX/Income%20by%20Location.csv')\n",
        "\n",
        "print('Dataset downloaded and read into a pandas dataframe!')"
      ],
      "execution_count": 27,
      "outputs": [
        {
          "output_type": "stream",
          "text": [
            "Dataset downloaded and read into a pandas dataframe!\n"
          ],
          "name": "stdout"
        }
      ]
    },
    {
      "cell_type": "code",
      "metadata": {
        "id": "SvphnR2n_Kil",
        "colab_type": "code",
        "outputId": "8fd782e1-e69b-442d-b507-6d5c8cc80417",
        "colab": {
          "base_uri": "https://localhost:8080/",
          "height": 34
        }
      },
      "source": [
        "df_incomes.shape"
      ],
      "execution_count": 28,
      "outputs": [
        {
          "output_type": "execute_result",
          "data": {
            "text/plain": [
              "(973, 8)"
            ]
          },
          "metadata": {
            "tags": []
          },
          "execution_count": 28
        }
      ]
    },
    {
      "cell_type": "code",
      "metadata": {
        "id": "wijYfg4R4a9B",
        "colab_type": "code",
        "outputId": "23ccae75-dea3-4636-8f70-2395eab6b6c9",
        "colab": {
          "base_uri": "https://localhost:8080/",
          "height": 204
        }
      },
      "source": [
        "df_incomes.head()"
      ],
      "execution_count": 29,
      "outputs": [
        {
          "output_type": "execute_result",
          "data": {
            "text/html": [
              "<div>\n",
              "<style scoped>\n",
              "    .dataframe tbody tr th:only-of-type {\n",
              "        vertical-align: middle;\n",
              "    }\n",
              "\n",
              "    .dataframe tbody tr th {\n",
              "        vertical-align: top;\n",
              "    }\n",
              "\n",
              "    .dataframe thead th {\n",
              "        text-align: right;\n",
              "    }\n",
              "</style>\n",
              "<table border=\"1\" class=\"dataframe\">\n",
              "  <thead>\n",
              "    <tr style=\"text-align: right;\">\n",
              "      <th></th>\n",
              "      <th>ID Year</th>\n",
              "      <th>Year</th>\n",
              "      <th>ID Race</th>\n",
              "      <th>Race</th>\n",
              "      <th>Household Income by Race</th>\n",
              "      <th>Household Income by Race Moe</th>\n",
              "      <th>Geography</th>\n",
              "      <th>ID Geography</th>\n",
              "    </tr>\n",
              "  </thead>\n",
              "  <tbody>\n",
              "    <tr>\n",
              "      <th>0</th>\n",
              "      <td>2017</td>\n",
              "      <td>2017</td>\n",
              "      <td>0</td>\n",
              "      <td>Total</td>\n",
              "      <td>153912</td>\n",
              "      <td>19961.0</td>\n",
              "      <td>Census Tract 207, San Francisco County, CA</td>\n",
              "      <td>14000US06075020700</td>\n",
              "    </tr>\n",
              "    <tr>\n",
              "      <th>1</th>\n",
              "      <td>2017</td>\n",
              "      <td>2017</td>\n",
              "      <td>0</td>\n",
              "      <td>Total</td>\n",
              "      <td>103750</td>\n",
              "      <td>79349.0</td>\n",
              "      <td>Census Tract 9809, San Francisco County, CA</td>\n",
              "      <td>14000US06075980900</td>\n",
              "    </tr>\n",
              "    <tr>\n",
              "      <th>2</th>\n",
              "      <td>2017</td>\n",
              "      <td>2017</td>\n",
              "      <td>0</td>\n",
              "      <td>Total</td>\n",
              "      <td>98023</td>\n",
              "      <td>21136.0</td>\n",
              "      <td>Census Tract 329.01, San Francisco County, CA</td>\n",
              "      <td>14000US06075032901</td>\n",
              "    </tr>\n",
              "    <tr>\n",
              "      <th>3</th>\n",
              "      <td>2017</td>\n",
              "      <td>2017</td>\n",
              "      <td>0</td>\n",
              "      <td>Total</td>\n",
              "      <td>81509</td>\n",
              "      <td>19512.0</td>\n",
              "      <td>Census Tract 101, San Francisco County, CA</td>\n",
              "      <td>14000US06075010100</td>\n",
              "    </tr>\n",
              "    <tr>\n",
              "      <th>4</th>\n",
              "      <td>2017</td>\n",
              "      <td>2017</td>\n",
              "      <td>0</td>\n",
              "      <td>Total</td>\n",
              "      <td>93613</td>\n",
              "      <td>7363.0</td>\n",
              "      <td>Census Tract 329.02, San Francisco County, CA</td>\n",
              "      <td>14000US06075032902</td>\n",
              "    </tr>\n",
              "  </tbody>\n",
              "</table>\n",
              "</div>"
            ],
            "text/plain": [
              "   ID Year  ...        ID Geography\n",
              "0     2017  ...  14000US06075020700\n",
              "1     2017  ...  14000US06075980900\n",
              "2     2017  ...  14000US06075032901\n",
              "3     2017  ...  14000US06075010100\n",
              "4     2017  ...  14000US06075032902\n",
              "\n",
              "[5 rows x 8 columns]"
            ]
          },
          "metadata": {
            "tags": []
          },
          "execution_count": 29
        }
      ]
    },
    {
      "cell_type": "code",
      "metadata": {
        "id": "Qw_SHTei9TAj",
        "colab_type": "code",
        "colab": {}
      },
      "source": [
        "# Keeping only the relevant columns\n",
        "df_incomes = df_incomes[['Year', 'Household Income by Race', 'ID Geography']]"
      ],
      "execution_count": 0,
      "outputs": []
    },
    {
      "cell_type": "code",
      "metadata": {
        "id": "lfF8py0t4tWR",
        "colab_type": "code",
        "colab": {}
      },
      "source": [
        "# Since race value is set to Total, we can rename income column\n",
        "df_incomes.columns = ['Year','Income','Census']\n",
        "\n",
        "# Keeping the latest found value per ID Geography\n",
        "df_incomes = df_incomes.groupby('Census').max(level='Year')\n",
        "df_incomes.reset_index(inplace=True) \n",
        "\n",
        "# Remove the 7 leading characters in the Census column\n",
        "df_incomes['Census'] = df_incomes['Census'].map(lambda x: x[7:])"
      ],
      "execution_count": 0,
      "outputs": []
    },
    {
      "cell_type": "code",
      "metadata": {
        "id": "UoB2hO6o5--x",
        "colab_type": "code",
        "outputId": "c648d8e2-aabb-4945-c46b-ac9202dc0a27",
        "colab": {
          "base_uri": "https://localhost:8080/",
          "height": 204
        }
      },
      "source": [
        "df_incomes.head() # Nice, this is now very easy to merge to our Crimes dataframe"
      ],
      "execution_count": 32,
      "outputs": [
        {
          "output_type": "execute_result",
          "data": {
            "text/html": [
              "<div>\n",
              "<style scoped>\n",
              "    .dataframe tbody tr th:only-of-type {\n",
              "        vertical-align: middle;\n",
              "    }\n",
              "\n",
              "    .dataframe tbody tr th {\n",
              "        vertical-align: top;\n",
              "    }\n",
              "\n",
              "    .dataframe thead th {\n",
              "        text-align: right;\n",
              "    }\n",
              "</style>\n",
              "<table border=\"1\" class=\"dataframe\">\n",
              "  <thead>\n",
              "    <tr style=\"text-align: right;\">\n",
              "      <th></th>\n",
              "      <th>Census</th>\n",
              "      <th>Year</th>\n",
              "      <th>Income</th>\n",
              "    </tr>\n",
              "  </thead>\n",
              "  <tbody>\n",
              "    <tr>\n",
              "      <th>0</th>\n",
              "      <td>06075010100</td>\n",
              "      <td>2017</td>\n",
              "      <td>81509</td>\n",
              "    </tr>\n",
              "    <tr>\n",
              "      <th>1</th>\n",
              "      <td>06075010200</td>\n",
              "      <td>2017</td>\n",
              "      <td>125238</td>\n",
              "    </tr>\n",
              "    <tr>\n",
              "      <th>2</th>\n",
              "      <td>06075010300</td>\n",
              "      <td>2017</td>\n",
              "      <td>118210</td>\n",
              "    </tr>\n",
              "    <tr>\n",
              "      <th>3</th>\n",
              "      <td>06075010400</td>\n",
              "      <td>2017</td>\n",
              "      <td>106979</td>\n",
              "    </tr>\n",
              "    <tr>\n",
              "      <th>4</th>\n",
              "      <td>06075010500</td>\n",
              "      <td>2017</td>\n",
              "      <td>119750</td>\n",
              "    </tr>\n",
              "  </tbody>\n",
              "</table>\n",
              "</div>"
            ],
            "text/plain": [
              "        Census  Year  Income\n",
              "0  06075010100  2017   81509\n",
              "1  06075010200  2017  125238\n",
              "2  06075010300  2017  118210\n",
              "3  06075010400  2017  106979\n",
              "4  06075010500  2017  119750"
            ]
          },
          "metadata": {
            "tags": []
          },
          "execution_count": 32
        }
      ]
    },
    {
      "cell_type": "code",
      "metadata": {
        "id": "uHwnZFTR_XOJ",
        "colab_type": "code",
        "outputId": "ad131bc3-c2de-40e3-d2f6-e7790955442d",
        "colab": {
          "base_uri": "https://localhost:8080/",
          "height": 34
        }
      },
      "source": [
        "df_incomes.shape"
      ],
      "execution_count": 33,
      "outputs": [
        {
          "output_type": "execute_result",
          "data": {
            "text/plain": [
              "(195, 3)"
            ]
          },
          "metadata": {
            "tags": []
          },
          "execution_count": 33
        }
      ]
    },
    {
      "cell_type": "markdown",
      "metadata": {
        "id": "GBWGvrW_hhPq",
        "colab_type": "text"
      },
      "source": [
        "###Joining the Average Household Income to the Crimes dataframe"
      ]
    },
    {
      "cell_type": "code",
      "metadata": {
        "id": "QswbslwMDPhd",
        "colab_type": "code",
        "outputId": "eb933e25-ba0e-4439-89d7-a63ef3c7bab4",
        "colab": {
          "base_uri": "https://localhost:8080/",
          "height": 275
        }
      },
      "source": [
        "# Join to the master Dataframe\n",
        "df_incidents_grouped = df_incidents_grouped.set_index('Census').join(df_incomes[['Census', 'Income']].set_index('Census'))\n",
        "# Reset the index to 0\n",
        "df_incidents_grouped.reset_index(inplace=True) \n",
        "\n",
        "df_incidents_grouped.head()"
      ],
      "execution_count": 34,
      "outputs": [
        {
          "output_type": "execute_result",
          "data": {
            "text/html": [
              "<div>\n",
              "<style scoped>\n",
              "    .dataframe tbody tr th:only-of-type {\n",
              "        vertical-align: middle;\n",
              "    }\n",
              "\n",
              "    .dataframe tbody tr th {\n",
              "        vertical-align: top;\n",
              "    }\n",
              "\n",
              "    .dataframe thead th {\n",
              "        text-align: right;\n",
              "    }\n",
              "</style>\n",
              "<table border=\"1\" class=\"dataframe\">\n",
              "  <thead>\n",
              "    <tr style=\"text-align: right;\">\n",
              "      <th></th>\n",
              "      <th>Census</th>\n",
              "      <th>Arson</th>\n",
              "      <th>Assault</th>\n",
              "      <th>Burglary</th>\n",
              "      <th>Disorderly conduct</th>\n",
              "      <th>Driving under the influence</th>\n",
              "      <th>Drug/narcotic</th>\n",
              "      <th>Drunkenness</th>\n",
              "      <th>Extortion</th>\n",
              "      <th>Kidnapping</th>\n",
              "      <th>Larceny/theft</th>\n",
              "      <th>Liquor laws</th>\n",
              "      <th>Loitering</th>\n",
              "      <th>Other offenses</th>\n",
              "      <th>Prostitution</th>\n",
              "      <th>Robbery</th>\n",
              "      <th>Sex offenses, forcible</th>\n",
              "      <th>Sex offenses, non forcible</th>\n",
              "      <th>Stolen property</th>\n",
              "      <th>Suspicious occ</th>\n",
              "      <th>Trea</th>\n",
              "      <th>Trespass</th>\n",
              "      <th>Vandalism</th>\n",
              "      <th>Vehicle theft</th>\n",
              "      <th>Crimes</th>\n",
              "      <th>Income</th>\n",
              "    </tr>\n",
              "  </thead>\n",
              "  <tbody>\n",
              "    <tr>\n",
              "      <th>0</th>\n",
              "      <td>06075010100</td>\n",
              "      <td>2.0</td>\n",
              "      <td>157.0</td>\n",
              "      <td>67.0</td>\n",
              "      <td>4.0</td>\n",
              "      <td>3.0</td>\n",
              "      <td>29.0</td>\n",
              "      <td>4.0</td>\n",
              "      <td>0.0</td>\n",
              "      <td>0.0</td>\n",
              "      <td>1596.0</td>\n",
              "      <td>5.0</td>\n",
              "      <td>2.0</td>\n",
              "      <td>235.0</td>\n",
              "      <td>0.0</td>\n",
              "      <td>43.0</td>\n",
              "      <td>4.0</td>\n",
              "      <td>0.0</td>\n",
              "      <td>34.0</td>\n",
              "      <td>70.0</td>\n",
              "      <td>0.0</td>\n",
              "      <td>16.0</td>\n",
              "      <td>209.0</td>\n",
              "      <td>47.0</td>\n",
              "      <td>2527.0</td>\n",
              "      <td>81509</td>\n",
              "    </tr>\n",
              "    <tr>\n",
              "      <th>1</th>\n",
              "      <td>06075010200</td>\n",
              "      <td>1.0</td>\n",
              "      <td>53.0</td>\n",
              "      <td>42.0</td>\n",
              "      <td>0.0</td>\n",
              "      <td>5.0</td>\n",
              "      <td>9.0</td>\n",
              "      <td>0.0</td>\n",
              "      <td>0.0</td>\n",
              "      <td>5.0</td>\n",
              "      <td>781.0</td>\n",
              "      <td>1.0</td>\n",
              "      <td>0.0</td>\n",
              "      <td>94.0</td>\n",
              "      <td>0.0</td>\n",
              "      <td>18.0</td>\n",
              "      <td>6.0</td>\n",
              "      <td>0.0</td>\n",
              "      <td>12.0</td>\n",
              "      <td>28.0</td>\n",
              "      <td>0.0</td>\n",
              "      <td>8.0</td>\n",
              "      <td>87.0</td>\n",
              "      <td>34.0</td>\n",
              "      <td>1184.0</td>\n",
              "      <td>125238</td>\n",
              "    </tr>\n",
              "    <tr>\n",
              "      <th>2</th>\n",
              "      <td>06075010300</td>\n",
              "      <td>0.0</td>\n",
              "      <td>21.0</td>\n",
              "      <td>20.0</td>\n",
              "      <td>0.0</td>\n",
              "      <td>1.0</td>\n",
              "      <td>5.0</td>\n",
              "      <td>1.0</td>\n",
              "      <td>0.0</td>\n",
              "      <td>0.0</td>\n",
              "      <td>197.0</td>\n",
              "      <td>0.0</td>\n",
              "      <td>0.0</td>\n",
              "      <td>70.0</td>\n",
              "      <td>0.0</td>\n",
              "      <td>11.0</td>\n",
              "      <td>4.0</td>\n",
              "      <td>0.0</td>\n",
              "      <td>9.0</td>\n",
              "      <td>20.0</td>\n",
              "      <td>0.0</td>\n",
              "      <td>4.0</td>\n",
              "      <td>40.0</td>\n",
              "      <td>25.0</td>\n",
              "      <td>428.0</td>\n",
              "      <td>118210</td>\n",
              "    </tr>\n",
              "    <tr>\n",
              "      <th>3</th>\n",
              "      <td>06075010400</td>\n",
              "      <td>1.0</td>\n",
              "      <td>23.0</td>\n",
              "      <td>23.0</td>\n",
              "      <td>1.0</td>\n",
              "      <td>0.0</td>\n",
              "      <td>4.0</td>\n",
              "      <td>2.0</td>\n",
              "      <td>0.0</td>\n",
              "      <td>0.0</td>\n",
              "      <td>179.0</td>\n",
              "      <td>0.0</td>\n",
              "      <td>1.0</td>\n",
              "      <td>50.0</td>\n",
              "      <td>0.0</td>\n",
              "      <td>8.0</td>\n",
              "      <td>2.0</td>\n",
              "      <td>0.0</td>\n",
              "      <td>0.0</td>\n",
              "      <td>18.0</td>\n",
              "      <td>0.0</td>\n",
              "      <td>5.0</td>\n",
              "      <td>50.0</td>\n",
              "      <td>27.0</td>\n",
              "      <td>394.0</td>\n",
              "      <td>106979</td>\n",
              "    </tr>\n",
              "    <tr>\n",
              "      <th>4</th>\n",
              "      <td>06075010500</td>\n",
              "      <td>2.0</td>\n",
              "      <td>89.0</td>\n",
              "      <td>75.0</td>\n",
              "      <td>5.0</td>\n",
              "      <td>1.0</td>\n",
              "      <td>16.0</td>\n",
              "      <td>7.0</td>\n",
              "      <td>0.0</td>\n",
              "      <td>1.0</td>\n",
              "      <td>740.0</td>\n",
              "      <td>1.0</td>\n",
              "      <td>0.0</td>\n",
              "      <td>164.0</td>\n",
              "      <td>0.0</td>\n",
              "      <td>24.0</td>\n",
              "      <td>8.0</td>\n",
              "      <td>0.0</td>\n",
              "      <td>27.0</td>\n",
              "      <td>48.0</td>\n",
              "      <td>0.0</td>\n",
              "      <td>24.0</td>\n",
              "      <td>104.0</td>\n",
              "      <td>37.0</td>\n",
              "      <td>1373.0</td>\n",
              "      <td>119750</td>\n",
              "    </tr>\n",
              "  </tbody>\n",
              "</table>\n",
              "</div>"
            ],
            "text/plain": [
              "        Census  Arson  Assault  ...  Vehicle theft  Crimes  Income\n",
              "0  06075010100    2.0    157.0  ...           47.0  2527.0   81509\n",
              "1  06075010200    1.0     53.0  ...           34.0  1184.0  125238\n",
              "2  06075010300    0.0     21.0  ...           25.0   428.0  118210\n",
              "3  06075010400    1.0     23.0  ...           27.0   394.0  106979\n",
              "4  06075010500    2.0     89.0  ...           37.0  1373.0  119750\n",
              "\n",
              "[5 rows x 26 columns]"
            ]
          },
          "metadata": {
            "tags": []
          },
          "execution_count": 34
        }
      ]
    },
    {
      "cell_type": "markdown",
      "metadata": {
        "id": "qXukVOocpROR",
        "colab_type": "text"
      },
      "source": [
        "###Foursquare Time!"
      ]
    },
    {
      "cell_type": "code",
      "metadata": {
        "id": "YwLg61w4p5sE",
        "colab_type": "code",
        "outputId": "739e9c67-66e1-462c-a243-2488b314b069",
        "colab": {
          "base_uri": "https://localhost:8080/",
          "height": 34
        }
      },
      "source": [
        "from getpass import getpass # to hide secret key\n",
        "import json # library to handle JSON files\n",
        "from pandas.io.json import json_normalize # tranform JSON file into a pandas dataframe\n",
        "\n",
        "CLIENT_ID = 'SR4IUUCSUAPSQMPHRMJMFL4E3K1PZNNJGGTAMKCANJ1V4XSY' # your Foursquare ID\n",
        "CLIENT_SECRET = getpass('Enter the client secret value: ') # your Foursquare Secret\n",
        "VERSION = '20180605' # foursquare API version\n",
        "LIMIT = 100 # limit of number of venues returned by Foursquare API\n",
        "\n",
        "# reference: https://developer.foursquare.com/docs/resources/categories\n",
        "VENUES_CATS ={'Fastfood': '4bf58dd8d48988d16e941735',\n",
        "                'Yoga': '4bf58dd8d48988d102941735'} # venue ID for fastfood restaurants and yoga studios"
      ],
      "execution_count": 35,
      "outputs": [
        {
          "output_type": "stream",
          "text": [
            "Enter the client secret value: ··········\n"
          ],
          "name": "stdout"
        }
      ]
    },
    {
      "cell_type": "markdown",
      "metadata": {
        "id": "QfnBrBl_RzrN",
        "colab_type": "text"
      },
      "source": [
        "We now want to to get the list of all Fastfood restaurants and Yoga studios in San Francisco.\n",
        "Our issue is that the Foursquare API returns a max of 100 venues per request.\n",
        "Getting all the venues requires us to cover the city with overlapping discs.\n",
        "\n",
        "The proper solution involves an algorithm such as [Circle Packing ](https://en.wikipedia.org/wiki/Circle_packing) with increased radius to cover all the map. This is overkill for that one project and we will use [this tool](https://www.mapdevelopers.com/draw-circle-tool.php) and a few tests to estimate the position and radius of each disc."
      ]
    },
    {
      "cell_type": "code",
      "metadata": {
        "id": "hIXqaU7ZV3VK",
        "colab_type": "code",
        "colab": {}
      },
      "source": [
        "#https://www.mapdevelopers.com/draw-circle-tool.php?circles=%5B%5B6228.93%2C37.7572783%2C-122.4861656%2C%22%23AAAAAA%22%2C%22%23000000%22%2C0.4%5D%2C%5B3264%2C37.7953196%2C-122.425949%2C%22%23AAAAAA%22%2C%22%23000000%22%2C0.4%5D%2C%5B3653.2%2C37.7603086%2C-122.3809733%2C%22%23AAAAAA%22%2C%22%23000000%22%2C0.4%5D%2C%5B3653.2%2C37.7236606%2C-122.3940199%2C%22%23AAAAAA%22%2C%22%23000000%22%2C0.4%5D%5D\n",
        "# Let's build a dataframe based on our estimation\n",
        "api_coverage = pd.DataFrame(data={'lats': [37.757278, 37.760309, 37.723661, 37.807020, 37.802952, 37.785822, 37.711442],\n",
        "                'lons': [-122.486166, -122.380973, -122.394020, -122.433826, -122.395718, -122.418054, -122.438632],\n",
        "                'radius': [6200, 3700, 3700, 2100, 1820, 1515, 1500]})"
      ],
      "execution_count": 0,
      "outputs": []
    },
    {
      "cell_type": "code",
      "metadata": {
        "id": "vTHxSJdPJ28l",
        "colab_type": "code",
        "colab": {}
      },
      "source": [
        "# create a map of crimes per census tract block\n",
        "sanfran_map = folium.Map(location=[latitude, longitude], zoom_start=12)\n",
        "\n",
        "#Crime ranges\n",
        "threshold_scale = np.linspace(df_incidents_grouped['Crimes'].min(),\n",
        "                              df_incidents_grouped['Crimes'].max(),\n",
        "                              7, dtype=int)\n",
        "\n",
        "threshold_scale = threshold_scale.tolist() # change the numpy array to a list\n",
        "threshold_scale[-1] = threshold_scale[-1] + 1 # make sure that the last value of the list is greater than the maximum\n",
        "\n",
        "# generate choropleth map\n",
        "sanfran_map.choropleth(\n",
        "    geo_data=js_census,\n",
        "    data=df_incidents_grouped,\n",
        "    columns=['Census', 'Crimes'],\n",
        "    key_on='feature.properties.GEOID10',\n",
        "    fill_color='YlOrRd', \n",
        "    fill_opacity=0.7, \n",
        "    line_opacity=0.2,\n",
        "    threshold_scale = threshold_scale,\n",
        "    legend_name='Crimes per Census Tract in San Francisco'\n",
        ")\n",
        "\n",
        "# We can verify visually if the surface of the census tract blocks is all covered\n",
        "feature_group = folium.FeatureGroup(name='API centroids')\n",
        "\n",
        "for i in range(0,len(api_coverage)):\n",
        "    feature_group.add_child(folium.Circle([float(api_coverage['lats'][i]), float(api_coverage['lons'][i])],\n",
        "            popup= 'API call #{0}'.format(str(i)),\n",
        "            radius=int(api_coverage['radius'][i]),\n",
        "            color='black',\n",
        "            fill=True,\n",
        "            fill_color='black',\n",
        "            )).add_to(sanfran_map)\n",
        "\n",
        "# display map\n",
        "sanfran_map"
      ],
      "execution_count": 0,
      "outputs": []
    },
    {
      "cell_type": "markdown",
      "metadata": {
        "id": "ZPBQBYqLEERL",
        "colab_type": "text"
      },
      "source": [
        "Picture for reference as Github won't display maps\n",
        "![Thumbnail of a the San Francisco map](https://raw.githubusercontent.com/marienbaptiste/IBM-Capstone/master/RSX/sf3.png)"
      ]
    },
    {
      "cell_type": "markdown",
      "metadata": {
        "id": "f2exkfbGnQ9U",
        "colab_type": "text"
      },
      "source": [
        "Now that we have a spacial distribution for our queries, we just have to **run the requests**, **append the data** and **get rid of the duplicates** from the overlapping areas\n",
        "\n",
        "1.   Loop through data\n",
        "2.   Save the result once processed in a pkl file (which preserves the data types)\n",
        "3.   Reuse the saved file on subsequent runs to save API usage\n",
        "\n",
        "All of that is controlled by the widget following"
      ]
    },
    {
      "cell_type": "code",
      "metadata": {
        "id": "I362aco7-S5G",
        "colab_type": "code",
        "colab": {}
      },
      "source": [
        "# function that extracts the category of the venue\n",
        "def get_category_type(row):\n",
        "    try:\n",
        "        categories_list = row['categories']\n",
        "    except:\n",
        "        categories_list = row['venue.categories']\n",
        "        \n",
        "    if len(categories_list) == 0:\n",
        "        return None\n",
        "    else:\n",
        "        return categories_list[0]['name']"
      ],
      "execution_count": 0,
      "outputs": []
    },
    {
      "cell_type": "code",
      "metadata": {
        "id": "uf25DLqAYRvT",
        "colab_type": "code",
        "colab": {}
      },
      "source": [
        "# function extract all venues in a compound area for a category \n",
        "def get_venues(categoryname):\n",
        "  # init\n",
        "  df_venues = pd.DataFrame()\n",
        "\n",
        "  for i in range(0,len(api_coverage)):\n",
        "  #for i in range(0,1):\n",
        "    url = 'https://api.foursquare.com/v2/venues/explore?&client_id={}&client_secret={}&v={}&ll={},{}&radius={}&categoryId={}&limit={}'.format(\n",
        "    CLIENT_ID, \n",
        "    CLIENT_SECRET, \n",
        "    VERSION,\n",
        "    api_coverage['lats'][i], \n",
        "    api_coverage['lons'][i], \n",
        "    api_coverage['radius'][i],\n",
        "    VENUES_CATS[categoryname],\n",
        "    LIMIT)\n",
        "\n",
        "    #Fetching, careful with daily limit\n",
        "    results = requests.get(url).json()\n",
        "\n",
        "    venues = results['response']['groups'][0]['items']\n",
        "    \n",
        "    nearby_venues = json_normalize(venues) # flatten JSON\n",
        "\n",
        "    # filter columns\n",
        "    filtered_columns = ['venue.id', 'venue.name', 'venue.categories', 'venue.location.lat', 'venue.location.lng']\n",
        "    nearby_venues = nearby_venues.loc[:, filtered_columns]\n",
        "\n",
        "    # filter the category for each row\n",
        "    nearby_venues['venue.categories'] = nearby_venues.apply(get_category_type, axis=1)\n",
        "\n",
        "    # clean columns\n",
        "    nearby_venues.columns = [col.split(\".\")[-1] for col in nearby_venues.columns]\n",
        "\n",
        "    # hard coded category in case our target comes under different denominations\n",
        "    nearby_venues['hardcoded_cat'] = VENUES_CATS[categoryname]\n",
        "\n",
        "    # throw error is limit is reached, meaning we are potentially missing venues\n",
        "    if (nearby_venues.shape[0] >= LIMIT): raise ValueError('Number of venues per request limit reached, please use a smaller radius')\n",
        "\n",
        "    # we are marking which venue comes from which query for debug purpose\n",
        "    nearby_venues['batch'] = i\n",
        "\n",
        "    # adding to the payload\n",
        "    df_venues = df_venues.append(nearby_venues)\n",
        "\n",
        "  # dropping duplicates due to geographic overlap\n",
        "  df_venues.drop_duplicates(subset='id', inplace=True)\n",
        "\n",
        "  return df_venues"
      ],
      "execution_count": 0,
      "outputs": []
    },
    {
      "cell_type": "markdown",
      "metadata": {
        "id": "WqPNjKYBplB8",
        "colab_type": "text"
      },
      "source": [
        "## Methodology <a name=\"methodology\"></a>"
      ]
    },
    {
      "cell_type": "markdown",
      "metadata": {
        "id": "zXcp5S5jpsrS",
        "colab_type": "text"
      },
      "source": [
        "As disclosed throught the code we are making two assumptions:\n",
        "\n",
        "\n",
        "\n",
        "*   The presence of **fast-food** venture is the result of a market study for each of them that would **define the surrounding population as relatively poorer**, therefore **correlated to crimes** (as whacky as it sounds)\n",
        "*   The presence of **yoga studio** ventures should be a mark of a relatively more **wealthy neighbourhood**, we should find an **inverse correlation** to crimes.\n",
        "\n",
        "\n",
        "\n",
        "In first step, we will collect the locations of those two types of ventures.\n",
        "\n",
        "In second step, we will attribute the number of ventures belonging to their respective census block\n",
        "\n",
        "In third step we will plot it all for a visual verification\n",
        "\n",
        "In fourth step, we will compare their correlations, expecting a:\n",
        "\n",
        "\n",
        "*   **Very high correlation** between the **Crimes** per Census Block and **Incomes**\n",
        "*   **Positive and well defined correlation** between the **Crimes** and the amount of **fast-food ventures per block**\n",
        "*   **Negative and well defined correlation** between **Crimes** and the amount of **yoga ventures per block** \n",
        "\n",
        "This is a basic data exploration study leading to a simple comparison in correlation values (Namely the P value and the Pearson coefficient)\n"
      ]
    },
    {
      "cell_type": "markdown",
      "metadata": {
        "id": "9h0xPkgKt7ps",
        "colab_type": "text"
      },
      "source": [
        "## Analysis <a name=\"analysis\"></a>"
      ]
    },
    {
      "cell_type": "markdown",
      "metadata": {
        "id": "CFNAGAFNnrDy",
        "colab_type": "text"
      },
      "source": [
        "###Data Extraction from Foursquare"
      ]
    },
    {
      "cell_type": "markdown",
      "metadata": {
        "id": "k5XvdDzZn0Dq",
        "colab_type": "text"
      },
      "source": [
        "Using Foursquare comes with API usage limitations, to prevent reaching our daily limit, we are using the same trick as for the census block attribution\n"
      ]
    },
    {
      "cell_type": "code",
      "metadata": {
        "id": "x3p-UgDXBoBg",
        "colab_type": "code",
        "colab": {}
      },
      "source": [
        "#@title Venues Set Options { vertical-output: true, display-mode: \"form\" }\n",
        "generate_venues_file = False #@param {type:\"boolean\"}"
      ],
      "execution_count": 0,
      "outputs": []
    },
    {
      "cell_type": "code",
      "metadata": {
        "id": "5nYxkw5aB4FH",
        "colab_type": "code",
        "outputId": "57675eb9-2010-4810-da01-b8b7ce103fa1",
        "colab": {
          "base_uri": "https://localhost:8080/",
          "height": 68
        }
      },
      "source": [
        "from google.colab import drive # Access to our local storage\n",
        "drive.mount('drive')\n",
        "df_venues_census = pd.DataFrame() # Initializing the result\n",
        "\n",
        "if generate_venues_file:\n",
        "  # Generating from scratch\n",
        "  print(\"generating file...\")\n",
        "  import sys\n",
        "\n",
        "  # Using the previously defined function to find venues per area\n",
        "  df_venues_census = get_venues('Yoga')\n",
        "  df_venues_census = df_venues_census.append(get_venues('Fastfood'))\n",
        "\n",
        "  df_venues_census.reset_index(drop=True, inplace=True)\n",
        "  \n",
        "  df_venues_census.to_pickle('sf_venues.pkl')\n",
        "  !cp sf_venues.pkl drive/My\\ Drive/Colab\\ Notebooks/Data\n",
        "  print(\"file generated!\")\n",
        "else:\n",
        "  # Reusing the previously saved data\n",
        "  print(\"using local file...\")\n",
        "  path = \"/content/drive/My Drive/Colab Notebooks/Data/sf_venues.pkl\"\n",
        "  df_venues_census = pd.read_pickle(path)\n",
        "\n",
        "  print(\"file loaded...\")"
      ],
      "execution_count": 41,
      "outputs": [
        {
          "output_type": "stream",
          "text": [
            "Drive already mounted at drive; to attempt to forcibly remount, call drive.mount(\"drive\", force_remount=True).\n",
            "using local file...\n",
            "file loaded...\n"
          ],
          "name": "stdout"
        }
      ]
    },
    {
      "cell_type": "code",
      "metadata": {
        "id": "w4eiXbh4DRrJ",
        "colab_type": "code",
        "outputId": "68f5d443-0db3-485a-a219-0e270abea33d",
        "colab": {
          "base_uri": "https://localhost:8080/",
          "height": 204
        }
      },
      "source": [
        "df_venues_census.head() # Quick peek"
      ],
      "execution_count": 42,
      "outputs": [
        {
          "output_type": "execute_result",
          "data": {
            "text/html": [
              "<div>\n",
              "<style scoped>\n",
              "    .dataframe tbody tr th:only-of-type {\n",
              "        vertical-align: middle;\n",
              "    }\n",
              "\n",
              "    .dataframe tbody tr th {\n",
              "        vertical-align: top;\n",
              "    }\n",
              "\n",
              "    .dataframe thead th {\n",
              "        text-align: right;\n",
              "    }\n",
              "</style>\n",
              "<table border=\"1\" class=\"dataframe\">\n",
              "  <thead>\n",
              "    <tr style=\"text-align: right;\">\n",
              "      <th></th>\n",
              "      <th>id</th>\n",
              "      <th>name</th>\n",
              "      <th>categories</th>\n",
              "      <th>lat</th>\n",
              "      <th>lng</th>\n",
              "      <th>hardcoded_cat</th>\n",
              "      <th>batch</th>\n",
              "    </tr>\n",
              "  </thead>\n",
              "  <tbody>\n",
              "    <tr>\n",
              "      <th>0</th>\n",
              "      <td>49fb3628f964a520226e1fe3</td>\n",
              "      <td>Yoga Tree Stanyan</td>\n",
              "      <td>Yoga Studio</td>\n",
              "      <td>37.767727</td>\n",
              "      <td>-122.453067</td>\n",
              "      <td>4bf58dd8d48988d102941735</td>\n",
              "      <td>0</td>\n",
              "    </tr>\n",
              "    <tr>\n",
              "      <th>1</th>\n",
              "      <td>4d8fd05812d52c0f803d7134</td>\n",
              "      <td>Purusha Yoga</td>\n",
              "      <td>Yoga Studio</td>\n",
              "      <td>37.775599</td>\n",
              "      <td>-122.498930</td>\n",
              "      <td>4bf58dd8d48988d102941735</td>\n",
              "      <td>0</td>\n",
              "    </tr>\n",
              "    <tr>\n",
              "      <th>2</th>\n",
              "      <td>524231b20493eb54df1a91c6</td>\n",
              "      <td>Thriveability</td>\n",
              "      <td>Yoga Studio</td>\n",
              "      <td>37.737875</td>\n",
              "      <td>-122.469254</td>\n",
              "      <td>4bf58dd8d48988d102941735</td>\n",
              "      <td>0</td>\n",
              "    </tr>\n",
              "    <tr>\n",
              "      <th>3</th>\n",
              "      <td>514772bce4b00b9d3b82851b</td>\n",
              "      <td>Yoga Flow SF</td>\n",
              "      <td>Yoga Studio</td>\n",
              "      <td>37.724923</td>\n",
              "      <td>-122.462421</td>\n",
              "      <td>4bf58dd8d48988d102941735</td>\n",
              "      <td>0</td>\n",
              "    </tr>\n",
              "    <tr>\n",
              "      <th>4</th>\n",
              "      <td>52be3392498e1dba03b60a25</td>\n",
              "      <td>Yoga Tree 6th Avenue</td>\n",
              "      <td>Yoga Studio</td>\n",
              "      <td>37.785374</td>\n",
              "      <td>-122.464461</td>\n",
              "      <td>4bf58dd8d48988d102941735</td>\n",
              "      <td>0</td>\n",
              "    </tr>\n",
              "  </tbody>\n",
              "</table>\n",
              "</div>"
            ],
            "text/plain": [
              "                         id  ... batch\n",
              "0  49fb3628f964a520226e1fe3  ...     0\n",
              "1  4d8fd05812d52c0f803d7134  ...     0\n",
              "2  524231b20493eb54df1a91c6  ...     0\n",
              "3  514772bce4b00b9d3b82851b  ...     0\n",
              "4  52be3392498e1dba03b60a25  ...     0\n",
              "\n",
              "[5 rows x 7 columns]"
            ]
          },
          "metadata": {
            "tags": []
          },
          "execution_count": 42
        }
      ]
    },
    {
      "cell_type": "code",
      "metadata": {
        "id": "etDvSH9BDXs0",
        "colab_type": "code",
        "colab": {}
      },
      "source": [
        "# Making use of the lambda expression to get the census block ID\n",
        "df_venues_census['Census'] = df_venues_census.apply(lambda row: coord_to_sf_census_block(js_census, row['lng'], row['lat']).GeoID, axis=1)\n",
        "df_venues_census.columns = map(str.capitalize, df_venues_census.columns) #OCD renaming"
      ],
      "execution_count": 0,
      "outputs": []
    },
    {
      "cell_type": "code",
      "metadata": {
        "id": "ZM2QXPcfE2xL",
        "colab_type": "code",
        "outputId": "85153574-055b-4058-f72a-a62d5a22ffc8",
        "colab": {
          "base_uri": "https://localhost:8080/",
          "height": 204
        }
      },
      "source": [
        "df_venues_census.head() # Looking good"
      ],
      "execution_count": 44,
      "outputs": [
        {
          "output_type": "execute_result",
          "data": {
            "text/html": [
              "<div>\n",
              "<style scoped>\n",
              "    .dataframe tbody tr th:only-of-type {\n",
              "        vertical-align: middle;\n",
              "    }\n",
              "\n",
              "    .dataframe tbody tr th {\n",
              "        vertical-align: top;\n",
              "    }\n",
              "\n",
              "    .dataframe thead th {\n",
              "        text-align: right;\n",
              "    }\n",
              "</style>\n",
              "<table border=\"1\" class=\"dataframe\">\n",
              "  <thead>\n",
              "    <tr style=\"text-align: right;\">\n",
              "      <th></th>\n",
              "      <th>Id</th>\n",
              "      <th>Name</th>\n",
              "      <th>Categories</th>\n",
              "      <th>Lat</th>\n",
              "      <th>Lng</th>\n",
              "      <th>Hardcoded_cat</th>\n",
              "      <th>Batch</th>\n",
              "      <th>Census</th>\n",
              "    </tr>\n",
              "  </thead>\n",
              "  <tbody>\n",
              "    <tr>\n",
              "      <th>0</th>\n",
              "      <td>49fb3628f964a520226e1fe3</td>\n",
              "      <td>Yoga Tree Stanyan</td>\n",
              "      <td>Yoga Studio</td>\n",
              "      <td>37.767727</td>\n",
              "      <td>-122.453067</td>\n",
              "      <td>4bf58dd8d48988d102941735</td>\n",
              "      <td>0</td>\n",
              "      <td>06075017102</td>\n",
              "    </tr>\n",
              "    <tr>\n",
              "      <th>1</th>\n",
              "      <td>4d8fd05812d52c0f803d7134</td>\n",
              "      <td>Purusha Yoga</td>\n",
              "      <td>Yoga Studio</td>\n",
              "      <td>37.775599</td>\n",
              "      <td>-122.498930</td>\n",
              "      <td>4bf58dd8d48988d102941735</td>\n",
              "      <td>0</td>\n",
              "      <td>06075047901</td>\n",
              "    </tr>\n",
              "    <tr>\n",
              "      <th>2</th>\n",
              "      <td>524231b20493eb54df1a91c6</td>\n",
              "      <td>Thriveability</td>\n",
              "      <td>Yoga Studio</td>\n",
              "      <td>37.737875</td>\n",
              "      <td>-122.469254</td>\n",
              "      <td>4bf58dd8d48988d102941735</td>\n",
              "      <td>0</td>\n",
              "      <td>06075030800</td>\n",
              "    </tr>\n",
              "    <tr>\n",
              "      <th>3</th>\n",
              "      <td>514772bce4b00b9d3b82851b</td>\n",
              "      <td>Yoga Flow SF</td>\n",
              "      <td>Yoga Studio</td>\n",
              "      <td>37.724923</td>\n",
              "      <td>-122.462421</td>\n",
              "      <td>4bf58dd8d48988d102941735</td>\n",
              "      <td>0</td>\n",
              "      <td>06075030900</td>\n",
              "    </tr>\n",
              "    <tr>\n",
              "      <th>4</th>\n",
              "      <td>52be3392498e1dba03b60a25</td>\n",
              "      <td>Yoga Tree 6th Avenue</td>\n",
              "      <td>Yoga Studio</td>\n",
              "      <td>37.785374</td>\n",
              "      <td>-122.464461</td>\n",
              "      <td>4bf58dd8d48988d102941735</td>\n",
              "      <td>0</td>\n",
              "      <td>06075040100</td>\n",
              "    </tr>\n",
              "  </tbody>\n",
              "</table>\n",
              "</div>"
            ],
            "text/plain": [
              "                         Id                  Name  ... Batch       Census\n",
              "0  49fb3628f964a520226e1fe3     Yoga Tree Stanyan  ...     0  06075017102\n",
              "1  4d8fd05812d52c0f803d7134          Purusha Yoga  ...     0  06075047901\n",
              "2  524231b20493eb54df1a91c6         Thriveability  ...     0  06075030800\n",
              "3  514772bce4b00b9d3b82851b          Yoga Flow SF  ...     0  06075030900\n",
              "4  52be3392498e1dba03b60a25  Yoga Tree 6th Avenue  ...     0  06075040100\n",
              "\n",
              "[5 rows x 8 columns]"
            ]
          },
          "metadata": {
            "tags": []
          },
          "execution_count": 44
        }
      ]
    },
    {
      "cell_type": "code",
      "metadata": {
        "id": "vUW2W0MZE8ED",
        "colab_type": "code",
        "outputId": "a4e98ada-587f-43d7-e872-9430c3fbba4a",
        "colab": {
          "base_uri": "https://localhost:8080/",
          "height": 204
        }
      },
      "source": [
        "df_miss=df_venues_census[df_venues_census['Census'].isnull()] # Checking if some venues are returned from the borders, out of our census blocks coverage\n",
        "df_miss.head()"
      ],
      "execution_count": 45,
      "outputs": [
        {
          "output_type": "execute_result",
          "data": {
            "text/html": [
              "<div>\n",
              "<style scoped>\n",
              "    .dataframe tbody tr th:only-of-type {\n",
              "        vertical-align: middle;\n",
              "    }\n",
              "\n",
              "    .dataframe tbody tr th {\n",
              "        vertical-align: top;\n",
              "    }\n",
              "\n",
              "    .dataframe thead th {\n",
              "        text-align: right;\n",
              "    }\n",
              "</style>\n",
              "<table border=\"1\" class=\"dataframe\">\n",
              "  <thead>\n",
              "    <tr style=\"text-align: right;\">\n",
              "      <th></th>\n",
              "      <th>Id</th>\n",
              "      <th>Name</th>\n",
              "      <th>Categories</th>\n",
              "      <th>Lat</th>\n",
              "      <th>Lng</th>\n",
              "      <th>Hardcoded_cat</th>\n",
              "      <th>Batch</th>\n",
              "      <th>Census</th>\n",
              "    </tr>\n",
              "  </thead>\n",
              "  <tbody>\n",
              "    <tr>\n",
              "      <th>294</th>\n",
              "      <td>5745d143498e3dd4da32d1bc</td>\n",
              "      <td>Subway</td>\n",
              "      <td>Fast Food Restaurant</td>\n",
              "      <td>37.707320</td>\n",
              "      <td>-122.415780</td>\n",
              "      <td>4bf58dd8d48988d16e941735</td>\n",
              "      <td>2</td>\n",
              "      <td>None</td>\n",
              "    </tr>\n",
              "    <tr>\n",
              "      <th>296</th>\n",
              "      <td>515c82ccf0e4172442779d71</td>\n",
              "      <td>KFC</td>\n",
              "      <td>Fast Food Restaurant</td>\n",
              "      <td>37.706940</td>\n",
              "      <td>-122.414431</td>\n",
              "      <td>4bf58dd8d48988d16e941735</td>\n",
              "      <td>2</td>\n",
              "      <td>None</td>\n",
              "    </tr>\n",
              "    <tr>\n",
              "      <th>299</th>\n",
              "      <td>565d50c6498e638c548a925e</td>\n",
              "      <td>Bread Baskets</td>\n",
              "      <td>Fast Food Restaurant</td>\n",
              "      <td>37.704119</td>\n",
              "      <td>-122.412758</td>\n",
              "      <td>4bf58dd8d48988d16e941735</td>\n",
              "      <td>2</td>\n",
              "      <td>None</td>\n",
              "    </tr>\n",
              "    <tr>\n",
              "      <th>300</th>\n",
              "      <td>4b468a49f964a520c62326e3</td>\n",
              "      <td>Taco Bell</td>\n",
              "      <td>Fast Food Restaurant</td>\n",
              "      <td>37.707062</td>\n",
              "      <td>-122.414415</td>\n",
              "      <td>4bf58dd8d48988d16e941735</td>\n",
              "      <td>2</td>\n",
              "      <td>None</td>\n",
              "    </tr>\n",
              "    <tr>\n",
              "      <th>301</th>\n",
              "      <td>4abb84d6f964a520e88320e3</td>\n",
              "      <td>McDonald's</td>\n",
              "      <td>Fast Food Restaurant</td>\n",
              "      <td>37.706619</td>\n",
              "      <td>-122.415370</td>\n",
              "      <td>4bf58dd8d48988d16e941735</td>\n",
              "      <td>2</td>\n",
              "      <td>None</td>\n",
              "    </tr>\n",
              "  </tbody>\n",
              "</table>\n",
              "</div>"
            ],
            "text/plain": [
              "                           Id           Name  ... Batch  Census\n",
              "294  5745d143498e3dd4da32d1bc         Subway  ...     2    None\n",
              "296  515c82ccf0e4172442779d71            KFC  ...     2    None\n",
              "299  565d50c6498e638c548a925e  Bread Baskets  ...     2    None\n",
              "300  4b468a49f964a520c62326e3      Taco Bell  ...     2    None\n",
              "301  4abb84d6f964a520e88320e3     McDonald's  ...     2    None\n",
              "\n",
              "[5 rows x 8 columns]"
            ]
          },
          "metadata": {
            "tags": []
          },
          "execution_count": 45
        }
      ]
    },
    {
      "cell_type": "markdown",
      "metadata": {
        "id": "Yymw8mvN4x1z",
        "colab_type": "text"
      },
      "source": [
        "In this case again, venues returned with no census id are basically out of our definition of San Francisco for this study, they don't match our coverage so we can ditch them without afecting the final result"
      ]
    },
    {
      "cell_type": "code",
      "metadata": {
        "id": "paXAl3tjFiAM",
        "colab_type": "code",
        "colab": {}
      },
      "source": [
        "# Getting rid of the returned venues out of our coverage \n",
        "df_venues_census.dropna(inplace=True)\n",
        "df_venues_census.reset_index(drop=True, inplace=True)"
      ],
      "execution_count": 0,
      "outputs": []
    },
    {
      "cell_type": "code",
      "metadata": {
        "id": "yVzzLepvF0H3",
        "colab_type": "code",
        "outputId": "f1c4060c-72ca-46b5-f90c-d1cd1b65622d",
        "colab": {
          "base_uri": "https://localhost:8080/",
          "height": 34
        }
      },
      "source": [
        "df_venues_census.shape"
      ],
      "execution_count": 47,
      "outputs": [
        {
          "output_type": "execute_result",
          "data": {
            "text/plain": [
              "(376, 8)"
            ]
          },
          "metadata": {
            "tags": []
          },
          "execution_count": 47
        }
      ]
    },
    {
      "cell_type": "code",
      "metadata": {
        "id": "By8F3T4iGOUO",
        "colab_type": "code",
        "colab": {}
      },
      "source": [
        "# group per census\n",
        "\n",
        "# Remove the useless Coords\n",
        "df_venues_grouped = df_venues_census.drop(columns=['Id', 'Name', 'Categories', 'Lat', 'Lng', 'Batch'])\n",
        "\n",
        "# Aggregate and sum\n",
        "df_venues_grouped = df_venues_grouped.groupby(['Census', 'Hardcoded_cat']).size().reset_index(name='Count')\n",
        "df_venues_grouped.reset_index(drop=True, inplace=True)"
      ],
      "execution_count": 0,
      "outputs": []
    },
    {
      "cell_type": "markdown",
      "metadata": {
        "id": "PWtCwj7u5ZDg",
        "colab_type": "text"
      },
      "source": [
        "Let's have a lokk at our now properly grouped and counted venues"
      ]
    },
    {
      "cell_type": "code",
      "metadata": {
        "id": "gBTEw1OKHnp2",
        "colab_type": "code",
        "outputId": "7707869d-73ea-4089-bd40-09f9b9b987b7",
        "colab": {
          "base_uri": "https://localhost:8080/",
          "height": 204
        }
      },
      "source": [
        "df_venues_grouped.head()"
      ],
      "execution_count": 49,
      "outputs": [
        {
          "output_type": "execute_result",
          "data": {
            "text/html": [
              "<div>\n",
              "<style scoped>\n",
              "    .dataframe tbody tr th:only-of-type {\n",
              "        vertical-align: middle;\n",
              "    }\n",
              "\n",
              "    .dataframe tbody tr th {\n",
              "        vertical-align: top;\n",
              "    }\n",
              "\n",
              "    .dataframe thead th {\n",
              "        text-align: right;\n",
              "    }\n",
              "</style>\n",
              "<table border=\"1\" class=\"dataframe\">\n",
              "  <thead>\n",
              "    <tr style=\"text-align: right;\">\n",
              "      <th></th>\n",
              "      <th>Census</th>\n",
              "      <th>Hardcoded_cat</th>\n",
              "      <th>Count</th>\n",
              "    </tr>\n",
              "  </thead>\n",
              "  <tbody>\n",
              "    <tr>\n",
              "      <th>0</th>\n",
              "      <td>06075010100</td>\n",
              "      <td>4bf58dd8d48988d16e941735</td>\n",
              "      <td>15</td>\n",
              "    </tr>\n",
              "    <tr>\n",
              "      <th>1</th>\n",
              "      <td>06075010200</td>\n",
              "      <td>4bf58dd8d48988d16e941735</td>\n",
              "      <td>1</td>\n",
              "    </tr>\n",
              "    <tr>\n",
              "      <th>2</th>\n",
              "      <td>06075010400</td>\n",
              "      <td>4bf58dd8d48988d102941735</td>\n",
              "      <td>1</td>\n",
              "    </tr>\n",
              "    <tr>\n",
              "      <th>3</th>\n",
              "      <td>06075010400</td>\n",
              "      <td>4bf58dd8d48988d16e941735</td>\n",
              "      <td>1</td>\n",
              "    </tr>\n",
              "    <tr>\n",
              "      <th>4</th>\n",
              "      <td>06075010500</td>\n",
              "      <td>4bf58dd8d48988d102941735</td>\n",
              "      <td>1</td>\n",
              "    </tr>\n",
              "  </tbody>\n",
              "</table>\n",
              "</div>"
            ],
            "text/plain": [
              "        Census             Hardcoded_cat  Count\n",
              "0  06075010100  4bf58dd8d48988d16e941735     15\n",
              "1  06075010200  4bf58dd8d48988d16e941735      1\n",
              "2  06075010400  4bf58dd8d48988d102941735      1\n",
              "3  06075010400  4bf58dd8d48988d16e941735      1\n",
              "4  06075010500  4bf58dd8d48988d102941735      1"
            ]
          },
          "metadata": {
            "tags": []
          },
          "execution_count": 49
        }
      ]
    },
    {
      "cell_type": "markdown",
      "metadata": {
        "id": "OJYtHJ-aG6ka",
        "colab_type": "text"
      },
      "source": [
        "Final Map!"
      ]
    },
    {
      "cell_type": "code",
      "metadata": {
        "id": "A67I3O62J1NL",
        "colab_type": "code",
        "colab": {}
      },
      "source": [
        "sanfran_map = folium.Map(location=[latitude, longitude], zoom_start=13)\n",
        "\n",
        "#Crime ranges\n",
        "threshold_crime_scale = np.linspace(df_incidents_grouped['Crimes'].min(), df_incidents_grouped['Crimes'].max(), 7, dtype=int)\n",
        "threshold_crime_scale = threshold_crime_scale.tolist() # change the numpy array to a list\n",
        "threshold_crime_scale[-1] = threshold_crime_scale[-1] + 1 # make sure that the last value of the list is greater than the maximum\n",
        "\n",
        "#Income ranges\n",
        "threshold_income_scale = np.linspace(df_incidents_grouped['Income'].min(), df_incidents_grouped['Income'].max(), 7, dtype=int)\n",
        "threshold_income_scale = threshold_income_scale.tolist() # change the numpy array to a list\n",
        "threshold_income_scale[-1] = threshold_income_scale[-1] + 1 # make sure that the last value of the list is greater than the maximum\n",
        "\n",
        "folium.TileLayer('Stamen Terrain').add_to(sanfran_map)\n",
        "folium.TileLayer('Stamen Toner').add_to(sanfran_map)\n",
        "\n",
        "sanfran_map.choropleth(\n",
        "    name='Crimes',\n",
        "    geo_data=js_census,\n",
        "    data=df_incidents_grouped,\n",
        "    columns=['Census', 'Crimes'],\n",
        "    key_on='feature.properties.GEOID10',\n",
        "    fill_color='YlOrRd', \n",
        "    fill_opacity=0.7, \n",
        "    line_opacity=0.2,\n",
        "    threshold_scale = threshold_crime_scale,\n",
        "    legend_name='Crimes per Census Tract in San Francisco',\n",
        "    toggle=True,\n",
        "    show=True\n",
        "    )\n",
        "\n",
        "sanfran_map.choropleth(\n",
        "    name='Income per Household',\n",
        "    geo_data=js_census,\n",
        "    data=df_incidents_grouped,\n",
        "    columns=['Census', 'Income'],\n",
        "    key_on='feature.properties.GEOID10',\n",
        "    fill_color='YlGn', \n",
        "    fill_opacity=0.7, \n",
        "    line_opacity=0.2,\n",
        "    threshold_scale = threshold_income_scale,\n",
        "    legend_name='Income per Census Tract in San Francisco',\n",
        "    toggle=True,\n",
        "    show=False\n",
        "    )\n",
        "\n",
        "fg_fastfood=folium.FeatureGroup(name='Fastfood', show=True)\n",
        "sanfran_map.add_child(fg_fastfood)\n",
        "fg_yoga=folium.FeatureGroup(name='Yoga', show=False)\n",
        "sanfran_map.add_child(fg_yoga)\n",
        "\n",
        "dffastfood = df_venues_census[df_venues_census['Hardcoded_cat']==VENUES_CATS['Fastfood']]\n",
        "dffastfood.reset_index(inplace=True)\n",
        "for i in range(0,len(dffastfood)):\n",
        "  fg_fastfood.add_child(folium.Marker(location=[dffastfood['Lat'][i], dffastfood['Lng'][i]],icon=folium.Icon(icon='glyphicon-cutlery', color='red'), popup=dffastfood['Name'][i])).add_to(sanfran_map)\n",
        "\n",
        "dfyoga = df_venues_census[df_venues_census['Hardcoded_cat']==VENUES_CATS['Yoga']]\n",
        "dfyoga.reset_index(inplace=True)\n",
        "for i in range(0,len(dfyoga)):\n",
        "  fg_yoga.add_child(folium.Marker(location=[dfyoga['Lat'][i], dfyoga['Lng'][i]],icon=folium.Icon(icon='glyphicon-leaf', color='blue'), popup=dfyoga['Name'][i])).add_to(sanfran_map)\n",
        "\n",
        "folium.LayerControl(collapsed=False).add_to(sanfran_map)\n",
        "\n",
        "sanfran_map.save(outfile='sanfran_map.html')\n",
        "\n",
        "sanfran_map"
      ],
      "execution_count": 0,
      "outputs": []
    },
    {
      "cell_type": "markdown",
      "metadata": {
        "id": "dLvhM4DCEKyf",
        "colab_type": "text"
      },
      "source": [
        "Picture for reference as Github won't display maps\n",
        "![Thumbnail of a the San Francisco map](https://raw.githubusercontent.com/marienbaptiste/IBM-Capstone/master/RSX/sf4.png)"
      ]
    },
    {
      "cell_type": "markdown",
      "metadata": {
        "id": "46PleNZS6DF-",
        "colab_type": "text"
      },
      "source": [
        "It just remains to add the two types of grouped venues to the main Dataframe..."
      ]
    },
    {
      "cell_type": "code",
      "metadata": {
        "id": "qubQ33HAbgU3",
        "colab_type": "code",
        "colab": {}
      },
      "source": [
        "# Now building the final dataframe\n",
        "dffastfood = df_venues_grouped[df_venues_grouped['Hardcoded_cat']==VENUES_CATS['Fastfood']]\n",
        "dffastfood = dffastfood.rename(columns={'Count': 'Fastfood'})\n",
        "dfyoga = df_venues_grouped[df_venues_grouped['Hardcoded_cat']==VENUES_CATS['Yoga']]\n",
        "dfyoga = dfyoga.rename(columns={'Count': 'Yoga'})\n",
        "\n",
        "# Join to the master Dataframe\n",
        "df_incidents_grouped = df_incidents_grouped.set_index('Census').join(dffastfood[['Census', 'Fastfood']].set_index('Census'))\n",
        "df_incidents_grouped.reset_index(inplace=True)\n",
        "df_incidents_grouped = df_incidents_grouped.set_index('Census').join(dfyoga[['Census', 'Yoga']].set_index('Census'))\n",
        "df_incidents_grouped.reset_index(inplace=True)\n",
        "\n",
        "# Replace null values with 0\n",
        "df_incidents_grouped.fillna({'Fastfood': 0, 'Yoga': 0}, inplace=True)\n",
        "#df_incidents_grouped[['Fastfood', 'Yoga']] = df_incidents_grouped[['Fastfood', 'Yoga']].astype(int)"
      ],
      "execution_count": 0,
      "outputs": []
    },
    {
      "cell_type": "code",
      "metadata": {
        "id": "0-koBC3fPFxC",
        "colab_type": "code",
        "outputId": "e529cbcc-7999-4446-a9ea-2104b684b166",
        "colab": {
          "base_uri": "https://localhost:8080/",
          "height": 275
        }
      },
      "source": [
        "df_incidents_grouped.head()"
      ],
      "execution_count": 52,
      "outputs": [
        {
          "output_type": "execute_result",
          "data": {
            "text/html": [
              "<div>\n",
              "<style scoped>\n",
              "    .dataframe tbody tr th:only-of-type {\n",
              "        vertical-align: middle;\n",
              "    }\n",
              "\n",
              "    .dataframe tbody tr th {\n",
              "        vertical-align: top;\n",
              "    }\n",
              "\n",
              "    .dataframe thead th {\n",
              "        text-align: right;\n",
              "    }\n",
              "</style>\n",
              "<table border=\"1\" class=\"dataframe\">\n",
              "  <thead>\n",
              "    <tr style=\"text-align: right;\">\n",
              "      <th></th>\n",
              "      <th>Census</th>\n",
              "      <th>Arson</th>\n",
              "      <th>Assault</th>\n",
              "      <th>Burglary</th>\n",
              "      <th>Disorderly conduct</th>\n",
              "      <th>Driving under the influence</th>\n",
              "      <th>Drug/narcotic</th>\n",
              "      <th>Drunkenness</th>\n",
              "      <th>Extortion</th>\n",
              "      <th>Kidnapping</th>\n",
              "      <th>Larceny/theft</th>\n",
              "      <th>Liquor laws</th>\n",
              "      <th>Loitering</th>\n",
              "      <th>Other offenses</th>\n",
              "      <th>Prostitution</th>\n",
              "      <th>Robbery</th>\n",
              "      <th>Sex offenses, forcible</th>\n",
              "      <th>Sex offenses, non forcible</th>\n",
              "      <th>Stolen property</th>\n",
              "      <th>Suspicious occ</th>\n",
              "      <th>Trea</th>\n",
              "      <th>Trespass</th>\n",
              "      <th>Vandalism</th>\n",
              "      <th>Vehicle theft</th>\n",
              "      <th>Crimes</th>\n",
              "      <th>Income</th>\n",
              "      <th>Fastfood</th>\n",
              "      <th>Yoga</th>\n",
              "    </tr>\n",
              "  </thead>\n",
              "  <tbody>\n",
              "    <tr>\n",
              "      <th>0</th>\n",
              "      <td>06075010100</td>\n",
              "      <td>2.0</td>\n",
              "      <td>157.0</td>\n",
              "      <td>67.0</td>\n",
              "      <td>4.0</td>\n",
              "      <td>3.0</td>\n",
              "      <td>29.0</td>\n",
              "      <td>4.0</td>\n",
              "      <td>0.0</td>\n",
              "      <td>0.0</td>\n",
              "      <td>1596.0</td>\n",
              "      <td>5.0</td>\n",
              "      <td>2.0</td>\n",
              "      <td>235.0</td>\n",
              "      <td>0.0</td>\n",
              "      <td>43.0</td>\n",
              "      <td>4.0</td>\n",
              "      <td>0.0</td>\n",
              "      <td>34.0</td>\n",
              "      <td>70.0</td>\n",
              "      <td>0.0</td>\n",
              "      <td>16.0</td>\n",
              "      <td>209.0</td>\n",
              "      <td>47.0</td>\n",
              "      <td>2527.0</td>\n",
              "      <td>81509</td>\n",
              "      <td>15.0</td>\n",
              "      <td>0.0</td>\n",
              "    </tr>\n",
              "    <tr>\n",
              "      <th>1</th>\n",
              "      <td>06075010200</td>\n",
              "      <td>1.0</td>\n",
              "      <td>53.0</td>\n",
              "      <td>42.0</td>\n",
              "      <td>0.0</td>\n",
              "      <td>5.0</td>\n",
              "      <td>9.0</td>\n",
              "      <td>0.0</td>\n",
              "      <td>0.0</td>\n",
              "      <td>5.0</td>\n",
              "      <td>781.0</td>\n",
              "      <td>1.0</td>\n",
              "      <td>0.0</td>\n",
              "      <td>94.0</td>\n",
              "      <td>0.0</td>\n",
              "      <td>18.0</td>\n",
              "      <td>6.0</td>\n",
              "      <td>0.0</td>\n",
              "      <td>12.0</td>\n",
              "      <td>28.0</td>\n",
              "      <td>0.0</td>\n",
              "      <td>8.0</td>\n",
              "      <td>87.0</td>\n",
              "      <td>34.0</td>\n",
              "      <td>1184.0</td>\n",
              "      <td>125238</td>\n",
              "      <td>1.0</td>\n",
              "      <td>0.0</td>\n",
              "    </tr>\n",
              "    <tr>\n",
              "      <th>2</th>\n",
              "      <td>06075010300</td>\n",
              "      <td>0.0</td>\n",
              "      <td>21.0</td>\n",
              "      <td>20.0</td>\n",
              "      <td>0.0</td>\n",
              "      <td>1.0</td>\n",
              "      <td>5.0</td>\n",
              "      <td>1.0</td>\n",
              "      <td>0.0</td>\n",
              "      <td>0.0</td>\n",
              "      <td>197.0</td>\n",
              "      <td>0.0</td>\n",
              "      <td>0.0</td>\n",
              "      <td>70.0</td>\n",
              "      <td>0.0</td>\n",
              "      <td>11.0</td>\n",
              "      <td>4.0</td>\n",
              "      <td>0.0</td>\n",
              "      <td>9.0</td>\n",
              "      <td>20.0</td>\n",
              "      <td>0.0</td>\n",
              "      <td>4.0</td>\n",
              "      <td>40.0</td>\n",
              "      <td>25.0</td>\n",
              "      <td>428.0</td>\n",
              "      <td>118210</td>\n",
              "      <td>0.0</td>\n",
              "      <td>0.0</td>\n",
              "    </tr>\n",
              "    <tr>\n",
              "      <th>3</th>\n",
              "      <td>06075010400</td>\n",
              "      <td>1.0</td>\n",
              "      <td>23.0</td>\n",
              "      <td>23.0</td>\n",
              "      <td>1.0</td>\n",
              "      <td>0.0</td>\n",
              "      <td>4.0</td>\n",
              "      <td>2.0</td>\n",
              "      <td>0.0</td>\n",
              "      <td>0.0</td>\n",
              "      <td>179.0</td>\n",
              "      <td>0.0</td>\n",
              "      <td>1.0</td>\n",
              "      <td>50.0</td>\n",
              "      <td>0.0</td>\n",
              "      <td>8.0</td>\n",
              "      <td>2.0</td>\n",
              "      <td>0.0</td>\n",
              "      <td>0.0</td>\n",
              "      <td>18.0</td>\n",
              "      <td>0.0</td>\n",
              "      <td>5.0</td>\n",
              "      <td>50.0</td>\n",
              "      <td>27.0</td>\n",
              "      <td>394.0</td>\n",
              "      <td>106979</td>\n",
              "      <td>1.0</td>\n",
              "      <td>1.0</td>\n",
              "    </tr>\n",
              "    <tr>\n",
              "      <th>4</th>\n",
              "      <td>06075010500</td>\n",
              "      <td>2.0</td>\n",
              "      <td>89.0</td>\n",
              "      <td>75.0</td>\n",
              "      <td>5.0</td>\n",
              "      <td>1.0</td>\n",
              "      <td>16.0</td>\n",
              "      <td>7.0</td>\n",
              "      <td>0.0</td>\n",
              "      <td>1.0</td>\n",
              "      <td>740.0</td>\n",
              "      <td>1.0</td>\n",
              "      <td>0.0</td>\n",
              "      <td>164.0</td>\n",
              "      <td>0.0</td>\n",
              "      <td>24.0</td>\n",
              "      <td>8.0</td>\n",
              "      <td>0.0</td>\n",
              "      <td>27.0</td>\n",
              "      <td>48.0</td>\n",
              "      <td>0.0</td>\n",
              "      <td>24.0</td>\n",
              "      <td>104.0</td>\n",
              "      <td>37.0</td>\n",
              "      <td>1373.0</td>\n",
              "      <td>119750</td>\n",
              "      <td>5.0</td>\n",
              "      <td>1.0</td>\n",
              "    </tr>\n",
              "  </tbody>\n",
              "</table>\n",
              "</div>"
            ],
            "text/plain": [
              "        Census  Arson  Assault  Burglary  ...  Crimes  Income  Fastfood  Yoga\n",
              "0  06075010100    2.0    157.0      67.0  ...  2527.0   81509      15.0   0.0\n",
              "1  06075010200    1.0     53.0      42.0  ...  1184.0  125238       1.0   0.0\n",
              "2  06075010300    0.0     21.0      20.0  ...   428.0  118210       0.0   0.0\n",
              "3  06075010400    1.0     23.0      23.0  ...   394.0  106979       1.0   1.0\n",
              "4  06075010500    2.0     89.0      75.0  ...  1373.0  119750       5.0   1.0\n",
              "\n",
              "[5 rows x 28 columns]"
            ]
          },
          "metadata": {
            "tags": []
          },
          "execution_count": 52
        }
      ]
    },
    {
      "cell_type": "markdown",
      "metadata": {
        "id": "FAP-fqHa6M5R",
        "colab_type": "text"
      },
      "source": [
        "Our final move is to compare the correlations"
      ]
    },
    {
      "cell_type": "code",
      "metadata": {
        "id": "emLTmr5CWJ_P",
        "colab_type": "code",
        "outputId": "7e5e4422-9a8e-4f0e-81fe-afd3a0eff520",
        "colab": {
          "base_uri": "https://localhost:8080/",
          "height": 173
        }
      },
      "source": [
        "df_sums=df_incidents_grouped[['Crimes', 'Income', 'Fastfood', 'Yoga']]\n",
        "df_sums.corr()"
      ],
      "execution_count": 53,
      "outputs": [
        {
          "output_type": "execute_result",
          "data": {
            "text/html": [
              "<div>\n",
              "<style scoped>\n",
              "    .dataframe tbody tr th:only-of-type {\n",
              "        vertical-align: middle;\n",
              "    }\n",
              "\n",
              "    .dataframe tbody tr th {\n",
              "        vertical-align: top;\n",
              "    }\n",
              "\n",
              "    .dataframe thead th {\n",
              "        text-align: right;\n",
              "    }\n",
              "</style>\n",
              "<table border=\"1\" class=\"dataframe\">\n",
              "  <thead>\n",
              "    <tr style=\"text-align: right;\">\n",
              "      <th></th>\n",
              "      <th>Crimes</th>\n",
              "      <th>Income</th>\n",
              "      <th>Fastfood</th>\n",
              "      <th>Yoga</th>\n",
              "    </tr>\n",
              "  </thead>\n",
              "  <tbody>\n",
              "    <tr>\n",
              "      <th>Crimes</th>\n",
              "      <td>1.000000</td>\n",
              "      <td>-0.158367</td>\n",
              "      <td>0.708502</td>\n",
              "      <td>0.486440</td>\n",
              "    </tr>\n",
              "    <tr>\n",
              "      <th>Income</th>\n",
              "      <td>-0.158367</td>\n",
              "      <td>1.000000</td>\n",
              "      <td>-0.069147</td>\n",
              "      <td>0.133501</td>\n",
              "    </tr>\n",
              "    <tr>\n",
              "      <th>Fastfood</th>\n",
              "      <td>0.708502</td>\n",
              "      <td>-0.069147</td>\n",
              "      <td>1.000000</td>\n",
              "      <td>0.473737</td>\n",
              "    </tr>\n",
              "    <tr>\n",
              "      <th>Yoga</th>\n",
              "      <td>0.486440</td>\n",
              "      <td>0.133501</td>\n",
              "      <td>0.473737</td>\n",
              "      <td>1.000000</td>\n",
              "    </tr>\n",
              "  </tbody>\n",
              "</table>\n",
              "</div>"
            ],
            "text/plain": [
              "            Crimes    Income  Fastfood      Yoga\n",
              "Crimes    1.000000 -0.158367  0.708502  0.486440\n",
              "Income   -0.158367  1.000000 -0.069147  0.133501\n",
              "Fastfood  0.708502 -0.069147  1.000000  0.473737\n",
              "Yoga      0.486440  0.133501  0.473737  1.000000"
            ]
          },
          "metadata": {
            "tags": []
          },
          "execution_count": 53
        }
      ]
    },
    {
      "cell_type": "markdown",
      "metadata": {
        "id": "m3LJqzN26Wbo",
        "colab_type": "text"
      },
      "source": [
        "## Results and Discussion <a name=\"results\"></a>"
      ]
    },
    {
      "cell_type": "code",
      "metadata": {
        "id": "GMJq0HSMk1UB",
        "colab_type": "code",
        "colab": {}
      },
      "source": [
        "import matplotlib.pyplot as plt\n",
        "import seaborn as sns\n",
        "%matplotlib inline "
      ],
      "execution_count": 0,
      "outputs": []
    },
    {
      "cell_type": "code",
      "metadata": {
        "id": "pdixxvU-mWzZ",
        "colab_type": "code",
        "outputId": "02b9fb4e-5b6a-435b-d1f0-6d1128495f87",
        "colab": {
          "base_uri": "https://localhost:8080/",
          "height": 299
        }
      },
      "source": [
        "sns.regplot(x=\"Fastfood\", y=\"Crimes\", data=df_incidents_grouped)\n",
        "plt.ylim(0,)"
      ],
      "execution_count": 55,
      "outputs": [
        {
          "output_type": "execute_result",
          "data": {
            "text/plain": [
              "(0, 8047.251143837245)"
            ]
          },
          "metadata": {
            "tags": []
          },
          "execution_count": 55
        },
        {
          "output_type": "display_data",
          "data": {
            "image/png": "[encoded data removed]",
            "text/plain": [
              "<Figure size 432x288 with 1 Axes>"
            ]
          },
          "metadata": {
            "tags": []
          }
        }
      ]
    },
    {
      "cell_type": "markdown",
      "metadata": {
        "id": "lZ1bSlLVp7h5",
        "colab_type": "text"
      },
      "source": [
        "<b>P-value</b>: \n",
        "<p>What is this P-value? The P-value is the probability value that the correlation between these two variables is statistically significant. Normally, we choose a significance level of 0.05, which means that we are 95% confident that the correlation between the variables is significant.</p>\n",
        "\n",
        "By convention, when the\n",
        "<ul>\n",
        "    <li>p-value is $<$ 0.001: we say there is strong evidence that the correlation is significant.</li>\n",
        "    <li>the p-value is $<$ 0.05: there is moderate evidence that the correlation is significant.</li>\n",
        "    <li>the p-value is $<$ 0.1: there is weak evidence that the correlation is significant.</li>\n",
        "    <li>the p-value is $>$ 0.1: there is no evidence that the correlation is significant.</li>\n",
        "</ul>"
      ]
    },
    {
      "cell_type": "code",
      "metadata": {
        "id": "w-95epanp9Pz",
        "colab_type": "code",
        "outputId": "91f31741-16c8-49a9-93f7-2807a1c6e0a4",
        "colab": {
          "base_uri": "https://localhost:8080/",
          "height": 68
        }
      },
      "source": [
        "from scipy import stats\n",
        "pearson_coef, p_value = stats.pearsonr(df_sums['Fastfood'], df_sums['Crimes'])\n",
        "print(\"The Pearson Correlation Coefficient between Fastfood venues presence and Crimes is\", pearson_coef, \" with a P-value of P =\", p_value) \n",
        "pearson_coef, p_value = stats.pearsonr(df_sums['Yoga'], df_sums['Crimes'])\n",
        "print(\"The Pearson Correlation Coefficient between Yoga venues presence and Crimes is\", pearson_coef, \" with a P-value of P =\", p_value)  \n",
        "pearson_coef, p_value = stats.pearsonr(df_sums['Income'], df_sums['Crimes'])\n",
        "print(\"The Pearson Correlation Coefficient between Average Income per Household and Crimes is\", pearson_coef, \" with a P-value of P =\", p_value)  "
      ],
      "execution_count": 56,
      "outputs": [
        {
          "output_type": "stream",
          "text": [
            "The Pearson Correlation Coefficient between Fastfood venues presence and Crimes is 0.7085020108512083  with a P-value of P = 6.970930586185497e-31\n",
            "The Pearson Correlation Coefficient between Yoga venues presence and Crimes is 0.4864399942517627  with a P-value of P = 6.436520775576165e-13\n",
            "The Pearson Correlation Coefficient between Average Income per Household and Crimes is -0.15836724300092672  with a P-value of P = 0.027420251750343953\n"
          ],
          "name": "stdout"
        }
      ]
    },
    {
      "cell_type": "markdown",
      "metadata": {
        "id": "aafZ5O4Mqeko",
        "colab_type": "text"
      },
      "source": [
        "**Conclusion**:\n",
        "Since the p-value is  <  0.001, the correlation between the presence of fast-food ventures and criminality within the same neighborhood is statistically significant, and the linear relationship is quite strong (~0.708, close to 1)"
      ]
    },
    {
      "cell_type": "markdown",
      "metadata": {
        "id": "_W9HtJ9t7f4B",
        "colab_type": "text"
      },
      "source": [
        "Our analysis shows surprising results for those data under those vintages for the city of San Francisco. Our tongue-in-cheek assumption happened to be verified, **there is a solid correlation between the density of fast-food ventures in an area and criminality level**. This is a correlation, not a causation.\n",
        "\n",
        "More interesting is the fact that for San Francisco, applied to the census blocks the **Average Income per Household shows no obvious inverse correlation**. Criminality looks completely unrelated. This is very surprising as this was our gauging index.\n",
        "\n",
        "Also the presence of **yoga studios shows a very mild correlation with criminality**. This is a plain proof for a **wrong assumption** showing that certainly population density is a stronger factor than population type in the business plan to establish those shops."
      ]
    },
    {
      "cell_type": "markdown",
      "metadata": {
        "id": "RG0duE_z9q11",
        "colab_type": "text"
      },
      "source": [
        "## Conclusion <a name=\"conclusion\"></a>"
      ]
    },
    {
      "cell_type": "markdown",
      "metadata": {
        "id": "cG3e3Wvs96gF",
        "colab_type": "text"
      },
      "source": [
        "While we found something odd about the city of San Francisco, we could only conclude that this city is not typical. Which is certainly why it is the subject of many studies.\n",
        "\n",
        "Back to our goals:\n",
        "\n",
        "Primary\n",
        "\n",
        "*   **For a short span of time, if both economic and societal profile of San Francisco does not change as well as most Fast Food chain business model remains consistent, a high concentration of those could translate in a potentially more dangerous area**. But this is a second hand indicator and could be only valid at the time of the study.\n",
        "\n",
        "Secondary\n",
        "\n",
        "*   Shouldering the idea that information is not data but what we get out of it.\n",
        "This is the way we decided to work our data. Our data sources are not absolutely leading in any case to those solutions. A different type of shop used, a different approach or territorial partition would provide **different information with the same data sets**.\n",
        "\n",
        "*   The difference between correlation and causation in action. Are happy meals coming with concealed firearms? No.\n",
        "\n",
        "*   Working with nonoptimal/indirectly correlated data for a case, as most real-life projects. Our results could be absolutely biased because we chose to work on non optimal data. Far from the origin of our problem. **Not crossing information in that case can't lead to an actual firm conclusion but at most data oddities and peculiar data or mathematical facts**.\n",
        "\n",
        "*   Showing the importance of ethics and a way fake news could be born. The most important conclusion in the end is that ethics are the key factor in data analysis. People believe in the power of data, report and images based on official reports and datasets labelled \".gov\" but it is surprisingly easy to cherry pick what conveniently concurs to what we want to say, true or not. **From data selection, cleaning, parsing, methods to interpretation, there are so many ways of stamping a fake/inaccurate information as legit**."
      ]
    }
  ]
}