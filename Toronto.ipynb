{
  "nbformat": 4,
  "nbformat_minor": 0,
  "metadata": {
    "colab": {
      "name": "Toronto.ipynb",
      "provenance": [],
      "collapsed_sections": [],
      "include_colab_link": true
    },
    "kernelspec": {
      "name": "python3",
      "display_name": "Python 3"
    }
  },
  "cells": [
    {
      "cell_type": "markdown",
      "metadata": {
        "id": "view-in-github",
        "colab_type": "text"
      },
      "source": [
        "<a href=\"https://colab.research.google.com/github/marienbaptiste/IBM-Capstone/blob/master/Toronto.ipynb\" target=\"_parent\"><img src=\"https://colab.research.google.com/assets/colab-badge.svg\" alt=\"Open In Colab\"/></a>"
      ]
    },
    {
      "cell_type": "code",
      "metadata": {
        "id": "bFaFiquph7tB",
        "colab_type": "code",
        "colab": {}
      },
      "source": [
        ""
      ],
      "execution_count": 0,
      "outputs": []
    },
    {
      "cell_type": "markdown",
      "metadata": {
        "id": "MUtkL-chh-mI",
        "colab_type": "text"
      },
      "source": [
        "<h1 align=\"center\">Segmenting and Clustering Neighborhoods in Toronto</h1>"
      ]
    },
    {
      "cell_type": "markdown",
      "metadata": {
        "id": "WNuNhgyND5Uh",
        "colab_type": "text"
      },
      "source": [
        "\n",
        "*The whole assigment is in this notebook*\n",
        "\n"
      ]
    },
    {
      "cell_type": "markdown",
      "metadata": {
        "id": "T9yF1M3Yickb",
        "colab_type": "text"
      },
      "source": [
        "##Part 1"
      ]
    },
    {
      "cell_type": "code",
      "metadata": {
        "id": "ev63VrdNJxqa",
        "colab_type": "code",
        "colab": {}
      },
      "source": [
        "#Libraries\n",
        "import requests\n",
        "import pandas as pd\n",
        "import numpy as np"
      ],
      "execution_count": 0,
      "outputs": []
    },
    {
      "cell_type": "markdown",
      "metadata": {
        "id": "ET9OardajnHA",
        "colab_type": "text"
      },
      "source": [
        "**1.   Scraping data with BeautifulSoup**"
      ]
    },
    {
      "cell_type": "code",
      "metadata": {
        "id": "1xiDk2m5jw4r",
        "colab_type": "code",
        "colab": {}
      },
      "source": [
        "# Make the request to a url\n",
        "r = requests.get('https://en.wikipedia.org/wiki/List_of_postal_codes_of_Canada:_M')\n",
        "\n",
        "# Create soup from content of request\n",
        "c = r.content\n",
        "\n",
        "from bs4 import BeautifulSoup\n",
        "\n",
        "soup = BeautifulSoup(c) #soup in now the html output"
      ],
      "execution_count": 0,
      "outputs": []
    },
    {
      "cell_type": "code",
      "metadata": {
        "id": "SSREB1xqj2Qm",
        "colab_type": "code",
        "colab": {}
      },
      "source": [
        "# Inspecting the code, we can find that our data in wrapped in a \"wikitable sortable jquery-tablesorter\", let's isolate that\n",
        "neigh_table = soup.find('table',{'class':'wikitable sortable'})\n",
        "\n",
        "# Our data in <td> is nested into <tr>\n",
        "table_rows = neigh_table.find_all('tr')\n",
        "\n",
        "#Let's append it all in a list called data\n",
        "data = []\n",
        "for row in table_rows:\n",
        "    data.append([t.text.strip() for t in row.find_all('td')])"
      ],
      "execution_count": 0,
      "outputs": []
    },
    {
      "cell_type": "markdown",
      "metadata": {
        "id": "IVIYf5IYPAHI",
        "colab_type": "text"
      },
      "source": [
        "**2.   The dataframe will consist of three columns: PostalCode, Borough, and Neighborhood**"
      ]
    },
    {
      "cell_type": "code",
      "metadata": {
        "id": "qOBwdwu9PHwv",
        "colab_type": "code",
        "outputId": "e9bd53c9-86c9-48bc-9b1d-bf59fb66a08c",
        "colab": {
          "base_uri": "https://localhost:8080/",
          "height": 262
        }
      },
      "source": [
        "df = pd.DataFrame(data, columns=['PostalCode', 'Borough', 'Neighbourhood'])\n",
        "\n",
        "#From a first inspection, it looks like we created rows with empty values\n",
        "print((~df['PostalCode'].isnull()).value_counts())\n",
        "\n",
        "df = df[~df['PostalCode'].isnull()]  #Filter the artifact at the beginning (empty row)\n",
        "\n",
        "#Let's check the cleaned up result\n",
        "print(df.shape)\n",
        "df.head()"
      ],
      "execution_count": 29,
      "outputs": [
        {
          "output_type": "stream",
          "text": [
            "True     287\n",
            "False      1\n",
            "Name: PostalCode, dtype: int64\n",
            "(287, 3)\n"
          ],
          "name": "stdout"
        },
        {
          "output_type": "execute_result",
          "data": {
            "text/html": [
              "<div>\n",
              "<style scoped>\n",
              "    .dataframe tbody tr th:only-of-type {\n",
              "        vertical-align: middle;\n",
              "    }\n",
              "\n",
              "    .dataframe tbody tr th {\n",
              "        vertical-align: top;\n",
              "    }\n",
              "\n",
              "    .dataframe thead th {\n",
              "        text-align: right;\n",
              "    }\n",
              "</style>\n",
              "<table border=\"1\" class=\"dataframe\">\n",
              "  <thead>\n",
              "    <tr style=\"text-align: right;\">\n",
              "      <th></th>\n",
              "      <th>PostalCode</th>\n",
              "      <th>Borough</th>\n",
              "      <th>Neighbourhood</th>\n",
              "    </tr>\n",
              "  </thead>\n",
              "  <tbody>\n",
              "    <tr>\n",
              "      <th>1</th>\n",
              "      <td>M1A</td>\n",
              "      <td>Not assigned</td>\n",
              "      <td>Not assigned</td>\n",
              "    </tr>\n",
              "    <tr>\n",
              "      <th>2</th>\n",
              "      <td>M2A</td>\n",
              "      <td>Not assigned</td>\n",
              "      <td>Not assigned</td>\n",
              "    </tr>\n",
              "    <tr>\n",
              "      <th>3</th>\n",
              "      <td>M3A</td>\n",
              "      <td>North York</td>\n",
              "      <td>Parkwoods</td>\n",
              "    </tr>\n",
              "    <tr>\n",
              "      <th>4</th>\n",
              "      <td>M4A</td>\n",
              "      <td>North York</td>\n",
              "      <td>Victoria Village</td>\n",
              "    </tr>\n",
              "    <tr>\n",
              "      <th>5</th>\n",
              "      <td>M5A</td>\n",
              "      <td>Downtown Toronto</td>\n",
              "      <td>Harbourfront</td>\n",
              "    </tr>\n",
              "  </tbody>\n",
              "</table>\n",
              "</div>"
            ],
            "text/plain": [
              "  PostalCode           Borough     Neighbourhood\n",
              "1        M1A      Not assigned      Not assigned\n",
              "2        M2A      Not assigned      Not assigned\n",
              "3        M3A        North York         Parkwoods\n",
              "4        M4A        North York  Victoria Village\n",
              "5        M5A  Downtown Toronto      Harbourfront"
            ]
          },
          "metadata": {
            "tags": []
          },
          "execution_count": 29
        }
      ]
    },
    {
      "cell_type": "markdown",
      "metadata": {
        "id": "rnTsforiPWs8",
        "colab_type": "text"
      },
      "source": [
        "**3.   Only process the cells that have an assigned borough. Ignore cells with a borough that is Not assigned.**"
      ]
    },
    {
      "cell_type": "code",
      "metadata": {
        "id": "Y3WrV8AlPb6-",
        "colab_type": "code",
        "outputId": "8eecd258-2d08-404d-c7e0-50d80f9b7af9",
        "colab": {
          "base_uri": "https://localhost:8080/",
          "height": 195
        }
      },
      "source": [
        "#Droping the rows in \"Borough\" containing the string \"Not assigned\"\n",
        "\n",
        "#Building the condition\n",
        "indexNa = df[ df['Borough'] == 'Not assigned' ].index\n",
        " \n",
        "#Delete these row indexes from dataFrame\n",
        "df.drop(indexNa, inplace=True)\n",
        "\n",
        "#Reset the index to 0\n",
        "df.reset_index(drop=True, inplace=True)\n",
        "df.head()"
      ],
      "execution_count": 30,
      "outputs": [
        {
          "output_type": "execute_result",
          "data": {
            "text/html": [
              "<div>\n",
              "<style scoped>\n",
              "    .dataframe tbody tr th:only-of-type {\n",
              "        vertical-align: middle;\n",
              "    }\n",
              "\n",
              "    .dataframe tbody tr th {\n",
              "        vertical-align: top;\n",
              "    }\n",
              "\n",
              "    .dataframe thead th {\n",
              "        text-align: right;\n",
              "    }\n",
              "</style>\n",
              "<table border=\"1\" class=\"dataframe\">\n",
              "  <thead>\n",
              "    <tr style=\"text-align: right;\">\n",
              "      <th></th>\n",
              "      <th>PostalCode</th>\n",
              "      <th>Borough</th>\n",
              "      <th>Neighbourhood</th>\n",
              "    </tr>\n",
              "  </thead>\n",
              "  <tbody>\n",
              "    <tr>\n",
              "      <th>0</th>\n",
              "      <td>M3A</td>\n",
              "      <td>North York</td>\n",
              "      <td>Parkwoods</td>\n",
              "    </tr>\n",
              "    <tr>\n",
              "      <th>1</th>\n",
              "      <td>M4A</td>\n",
              "      <td>North York</td>\n",
              "      <td>Victoria Village</td>\n",
              "    </tr>\n",
              "    <tr>\n",
              "      <th>2</th>\n",
              "      <td>M5A</td>\n",
              "      <td>Downtown Toronto</td>\n",
              "      <td>Harbourfront</td>\n",
              "    </tr>\n",
              "    <tr>\n",
              "      <th>3</th>\n",
              "      <td>M6A</td>\n",
              "      <td>North York</td>\n",
              "      <td>Lawrence Heights</td>\n",
              "    </tr>\n",
              "    <tr>\n",
              "      <th>4</th>\n",
              "      <td>M6A</td>\n",
              "      <td>North York</td>\n",
              "      <td>Lawrence Manor</td>\n",
              "    </tr>\n",
              "  </tbody>\n",
              "</table>\n",
              "</div>"
            ],
            "text/plain": [
              "  PostalCode           Borough     Neighbourhood\n",
              "0        M3A        North York         Parkwoods\n",
              "1        M4A        North York  Victoria Village\n",
              "2        M5A  Downtown Toronto      Harbourfront\n",
              "3        M6A        North York  Lawrence Heights\n",
              "4        M6A        North York    Lawrence Manor"
            ]
          },
          "metadata": {
            "tags": []
          },
          "execution_count": 30
        }
      ]
    },
    {
      "cell_type": "markdown",
      "metadata": {
        "id": "gIPsM2ePEQND",
        "colab_type": "text"
      },
      "source": [
        "**4&5.   If more than one neighborhood exists per postal code, it should be combined with a comma**"
      ]
    },
    {
      "cell_type": "code",
      "metadata": {
        "id": "NrF0vr70ElX4",
        "colab_type": "code",
        "outputId": "cbcecf9e-db49-46d8-9702-cbe5de0c5317",
        "colab": {
          "base_uri": "https://localhost:8080/",
          "height": 229
        }
      },
      "source": [
        "#Finding evidence of those duplicates\n",
        "def find_dupes():\n",
        "\treturn str(df[df.groupby('PostalCode')['Neighbourhood'].transform('nunique') > 1].shape[0])\n",
        "\n",
        "print (\"Number of duplicates before processing: \" + find_dupes()) #163 duplicates found\n",
        "\n",
        "#Proceed to aggregate neighborhood sharing PostalCode\n",
        "df=df.groupby(['PostalCode','Borough'], sort=False).agg(', '.join)\n",
        "df.reset_index(inplace=True) #Reset the index to 0\n",
        "\n",
        "#Checking\n",
        "print (\"Number of duplicates after processing: \" + find_dupes()) #0 duplicate found, nice!\n",
        "df.head()"
      ],
      "execution_count": 31,
      "outputs": [
        {
          "output_type": "stream",
          "text": [
            "Number of duplicates before processing: 163\n",
            "Number of duplicates after processing: 0\n"
          ],
          "name": "stdout"
        },
        {
          "output_type": "execute_result",
          "data": {
            "text/html": [
              "<div>\n",
              "<style scoped>\n",
              "    .dataframe tbody tr th:only-of-type {\n",
              "        vertical-align: middle;\n",
              "    }\n",
              "\n",
              "    .dataframe tbody tr th {\n",
              "        vertical-align: top;\n",
              "    }\n",
              "\n",
              "    .dataframe thead th {\n",
              "        text-align: right;\n",
              "    }\n",
              "</style>\n",
              "<table border=\"1\" class=\"dataframe\">\n",
              "  <thead>\n",
              "    <tr style=\"text-align: right;\">\n",
              "      <th></th>\n",
              "      <th>PostalCode</th>\n",
              "      <th>Borough</th>\n",
              "      <th>Neighbourhood</th>\n",
              "    </tr>\n",
              "  </thead>\n",
              "  <tbody>\n",
              "    <tr>\n",
              "      <th>0</th>\n",
              "      <td>M3A</td>\n",
              "      <td>North York</td>\n",
              "      <td>Parkwoods</td>\n",
              "    </tr>\n",
              "    <tr>\n",
              "      <th>1</th>\n",
              "      <td>M4A</td>\n",
              "      <td>North York</td>\n",
              "      <td>Victoria Village</td>\n",
              "    </tr>\n",
              "    <tr>\n",
              "      <th>2</th>\n",
              "      <td>M5A</td>\n",
              "      <td>Downtown Toronto</td>\n",
              "      <td>Harbourfront</td>\n",
              "    </tr>\n",
              "    <tr>\n",
              "      <th>3</th>\n",
              "      <td>M6A</td>\n",
              "      <td>North York</td>\n",
              "      <td>Lawrence Heights, Lawrence Manor</td>\n",
              "    </tr>\n",
              "    <tr>\n",
              "      <th>4</th>\n",
              "      <td>M7A</td>\n",
              "      <td>Queen's Park</td>\n",
              "      <td>Not assigned</td>\n",
              "    </tr>\n",
              "  </tbody>\n",
              "</table>\n",
              "</div>"
            ],
            "text/plain": [
              "  PostalCode           Borough                     Neighbourhood\n",
              "0        M3A        North York                         Parkwoods\n",
              "1        M4A        North York                  Victoria Village\n",
              "2        M5A  Downtown Toronto                      Harbourfront\n",
              "3        M6A        North York  Lawrence Heights, Lawrence Manor\n",
              "4        M7A      Queen's Park                      Not assigned"
            ]
          },
          "metadata": {
            "tags": []
          },
          "execution_count": 31
        }
      ]
    },
    {
      "cell_type": "markdown",
      "metadata": {
        "id": "vGTcAGilH_um",
        "colab_type": "text"
      },
      "source": [
        "**6.  When a cell has a borough but a Not assigned neighborhood, then the neighborhood will be the same as the borough.**"
      ]
    },
    {
      "cell_type": "code",
      "metadata": {
        "id": "0B_3MoCbFbpy",
        "colab_type": "code",
        "colab": {
          "base_uri": "https://localhost:8080/",
          "height": 195
        },
        "outputId": "170cf5d4-15a9-4146-eddb-100e9c21c271"
      },
      "source": [
        "#Conditional return\n",
        "df['Neighbourhood'] = np.where(df['Neighbourhood'] == 'Not assigned',df['Borough'], df['Neighbourhood'])\n",
        "df.head() #Observing that M7A got the right value"
      ],
      "execution_count": 32,
      "outputs": [
        {
          "output_type": "execute_result",
          "data": {
            "text/html": [
              "<div>\n",
              "<style scoped>\n",
              "    .dataframe tbody tr th:only-of-type {\n",
              "        vertical-align: middle;\n",
              "    }\n",
              "\n",
              "    .dataframe tbody tr th {\n",
              "        vertical-align: top;\n",
              "    }\n",
              "\n",
              "    .dataframe thead th {\n",
              "        text-align: right;\n",
              "    }\n",
              "</style>\n",
              "<table border=\"1\" class=\"dataframe\">\n",
              "  <thead>\n",
              "    <tr style=\"text-align: right;\">\n",
              "      <th></th>\n",
              "      <th>PostalCode</th>\n",
              "      <th>Borough</th>\n",
              "      <th>Neighbourhood</th>\n",
              "    </tr>\n",
              "  </thead>\n",
              "  <tbody>\n",
              "    <tr>\n",
              "      <th>0</th>\n",
              "      <td>M3A</td>\n",
              "      <td>North York</td>\n",
              "      <td>Parkwoods</td>\n",
              "    </tr>\n",
              "    <tr>\n",
              "      <th>1</th>\n",
              "      <td>M4A</td>\n",
              "      <td>North York</td>\n",
              "      <td>Victoria Village</td>\n",
              "    </tr>\n",
              "    <tr>\n",
              "      <th>2</th>\n",
              "      <td>M5A</td>\n",
              "      <td>Downtown Toronto</td>\n",
              "      <td>Harbourfront</td>\n",
              "    </tr>\n",
              "    <tr>\n",
              "      <th>3</th>\n",
              "      <td>M6A</td>\n",
              "      <td>North York</td>\n",
              "      <td>Lawrence Heights, Lawrence Manor</td>\n",
              "    </tr>\n",
              "    <tr>\n",
              "      <th>4</th>\n",
              "      <td>M7A</td>\n",
              "      <td>Queen's Park</td>\n",
              "      <td>Queen's Park</td>\n",
              "    </tr>\n",
              "  </tbody>\n",
              "</table>\n",
              "</div>"
            ],
            "text/plain": [
              "  PostalCode           Borough                     Neighbourhood\n",
              "0        M3A        North York                         Parkwoods\n",
              "1        M4A        North York                  Victoria Village\n",
              "2        M5A  Downtown Toronto                      Harbourfront\n",
              "3        M6A        North York  Lawrence Heights, Lawrence Manor\n",
              "4        M7A      Queen's Park                      Queen's Park"
            ]
          },
          "metadata": {
            "tags": []
          },
          "execution_count": 32
        }
      ]
    },
    {
      "cell_type": "code",
      "metadata": {
        "id": "a2eRVCGXJqpB",
        "colab_type": "code",
        "colab": {}
      },
      "source": [
        ""
      ],
      "execution_count": 0,
      "outputs": []
    }
  ]
}